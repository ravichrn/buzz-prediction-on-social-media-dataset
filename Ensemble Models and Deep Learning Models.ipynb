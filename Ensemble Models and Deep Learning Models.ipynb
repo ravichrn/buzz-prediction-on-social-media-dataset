{
 "cells": [
  {
   "cell_type": "code",
   "execution_count": 1,
   "metadata": {},
   "outputs": [],
   "source": [
    "import numpy as np\n",
    "import pandas as pd\n",
    "import matplotlib.pyplot as plt\n",
    "%matplotlib inline\n",
    "import seaborn as sns"
   ]
  },
  {
   "cell_type": "code",
   "execution_count": 2,
   "metadata": {},
   "outputs": [],
   "source": [
    "col_names_cls = ['NCD_0', 'NCD_1', 'NCD_2', 'NCD_3', 'NCD_4', 'NCD_5', 'NCD_6', 'AI_0', 'AI_1', 'AI_2', 'AI_3', 'AI_4', 'AI_5', 'AI_6', 'AS(NA)_0', 'AS(NA)_1', 'AS(NA)_2', 'AS(NA)_3', 'AS(NA)_4','AS(NA)_5', 'AS(NA)_6', 'BL_0', 'BL_1', 'BL_2', 'BL_3', 'BL_4', 'BL_5', 'BL_6', 'NAC_0', 'NAC_1', 'NAC_2', 'NAC_3', 'NAC_4', 'NAC_5', 'NAC_6', 'AS(NAC)_0', 'AS(NAC)_1', 'AS(NAC)_2', 'AS(NAC)_3', 'AS(NAC)_4', 'AS(NAC)_5', 'AS(NAC)_6', 'CS_0', 'CS_1', 'CS_2', 'CS_3', 'CS_4', 'CS_5', 'CS_6', 'AT_0', 'AT_1', 'AT_2', 'AT_3', 'AT_4', 'AT_5', 'AT_6', 'NA_0', 'NA_1', 'NA_2', 'NA_3', 'NA_4', 'NA_5', 'NA_6', 'ADL_0', 'ADL_1', 'ADL_2', 'ADL_3', 'ADL_4', 'ADL_5', 'ADL_6', 'NAD_0', 'NAD_1', 'NAD_2', 'NAD_3', 'NAD_4', 'NAD_5', 'NAD_6', 'Buzz']\n",
    "col_names_reg = ['NCD_0', 'NCD_1', 'NCD_2', 'NCD_3', 'NCD_4', 'NCD_5', 'NCD_6', 'AI_0', 'AI_1', 'AI_2', 'AI_3', 'AI_4', 'AI_5', 'AI_6', 'AS(NA)_0', 'AS(NA)_1', 'AS(NA)_2', 'AS(NA)_3', 'AS(NA)_4','AS(NA)_5', 'AS(NA)_6', 'BL_0', 'BL_1', 'BL_2', 'BL_3', 'BL_4', 'BL_5', 'BL_6', 'NAC_0', 'NAC_1', 'NAC_2', 'NAC_3', 'NAC_4', 'NAC_5', 'NAC_6', 'AS(NAC)_0', 'AS(NAC)_1', 'AS(NAC)_2', 'AS(NAC)_3', 'AS(NAC)_4', 'AS(NAC)_5', 'AS(NAC)_6', 'CS_0', 'CS_1', 'CS_2', 'CS_3', 'CS_4', 'CS_5', 'CS_6', 'AT_0', 'AT_1', 'AT_2', 'AT_3', 'AT_4', 'AT_5', 'AT_6', 'NA_0', 'NA_1', 'NA_2', 'NA_3', 'NA_4', 'NA_5', 'NA_6', 'ADL_0', 'ADL_1', 'ADL_2', 'ADL_3', 'ADL_4', 'ADL_5', 'ADL_6', 'NAD_0', 'NAD_1', 'NAD_2', 'NAD_3', 'NAD_4', 'NAD_5', 'NAD_6', 'Mean_NAD']\n",
    "df_cls = pd.read_csv(\"Twitter-Absolute-Sigma-500.data\", names = col_names_cls)\n",
    "df_reg = pd.read_csv(\"Twitter.data\", names = col_names_reg)"
   ]
  },
  {
   "cell_type": "markdown",
   "metadata": {},
   "source": [
    "##  Regression "
   ]
  },
  {
   "cell_type": "code",
   "execution_count": 3,
   "metadata": {},
   "outputs": [],
   "source": [
    "X_reg = df_reg.drop('Mean_NAD', axis = 1)\n",
    "y_reg = df_reg['Mean_NAD']"
   ]
  },
  {
   "cell_type": "code",
   "execution_count": 4,
   "metadata": {},
   "outputs": [],
   "source": [
    "from sklearn.model_selection import train_test_split\n",
    "_, sample_data_reg, _, sample_target_reg = train_test_split(X_reg, y_reg, shuffle = True, test_size = 0.1)"
   ]
  },
  {
   "cell_type": "code",
   "execution_count": 5,
   "metadata": {},
   "outputs": [],
   "source": [
    "from sklearn.preprocessing import MinMaxScaler"
   ]
  },
  {
   "cell_type": "code",
   "execution_count": 6,
   "metadata": {},
   "outputs": [
    {
     "name": "stderr",
     "output_type": "stream",
     "text": [
      "c:\\users\\ravi\\appdata\\local\\programs\\python\\python36\\lib\\site-packages\\sklearn\\preprocessing\\data.py:323: DataConversionWarning: Data with input dtype int64, float64 were all converted to float64 by MinMaxScaler.\n",
      "  return self.partial_fit(X, y)\n"
     ]
    }
   ],
   "source": [
    "sample_train_org, sample_test_org, y_train_reg, y_test_reg = train_test_split(sample_data_reg, sample_target_reg, random_state = 0, test_size = 0.3)\n",
    "\n",
    "scaler = MinMaxScaler()\n",
    "X_train_reg = scaler.fit_transform(sample_train_org)\n",
    "X_test_reg = scaler.transform(sample_test_org)"
   ]
  },
  {
   "cell_type": "markdown",
   "metadata": {},
   "source": [
    "### Bagging "
   ]
  },
  {
   "cell_type": "code",
   "execution_count": 7,
   "metadata": {},
   "outputs": [],
   "source": [
    "from sklearn.ensemble import BaggingRegressor"
   ]
  },
  {
   "cell_type": "markdown",
   "metadata": {},
   "source": [
    "Bagging with Decision Tree Regression"
   ]
  },
  {
   "cell_type": "code",
   "execution_count": 8,
   "metadata": {},
   "outputs": [],
   "source": [
    "from sklearn.tree import DecisionTreeRegressor\n",
    "dt_reg_1 = DecisionTreeRegressor(random_state=0)"
   ]
  },
  {
   "cell_type": "code",
   "execution_count": 9,
   "metadata": {},
   "outputs": [],
   "source": [
    "bag_dt_reg = BaggingRegressor(dt_reg_1, n_estimators=500, max_samples=5000, bootstrap=True, n_jobs=-1, random_state=0)"
   ]
  },
  {
   "cell_type": "code",
   "execution_count": 10,
   "metadata": {},
   "outputs": [
    {
     "data": {
      "text/plain": [
       "BaggingRegressor(base_estimator=DecisionTreeRegressor(criterion='mse', max_depth=None, max_features=None,\n",
       "           max_leaf_nodes=None, min_impurity_decrease=0.0,\n",
       "           min_impurity_split=None, min_samples_leaf=1,\n",
       "           min_samples_split=2, min_weight_fraction_leaf=0.0,\n",
       "           presort=False, random_state=0, splitter='best'),\n",
       "         bootstrap=True, bootstrap_features=False, max_features=1.0,\n",
       "         max_samples=5000, n_estimators=500, n_jobs=-1, oob_score=False,\n",
       "         random_state=0, verbose=0, warm_start=False)"
      ]
     },
     "execution_count": 10,
     "metadata": {},
     "output_type": "execute_result"
    }
   ],
   "source": [
    "bag_dt_reg.fit(X_train_reg, y_train_reg)"
   ]
  },
  {
   "cell_type": "code",
   "execution_count": 11,
   "metadata": {},
   "outputs": [
    {
     "name": "stdout",
     "output_type": "stream",
     "text": [
      "Train score: 0.94\n",
      "Test score: 0.89\n"
     ]
    }
   ],
   "source": [
    "print('Train score: {:.2f}'.format(bag_dt_reg.score(X_train_reg, y_train_reg)))\n",
    "print('Test score: {:.2f}'.format(bag_dt_reg.score(X_test_reg, y_test_reg)))"
   ]
  },
  {
   "cell_type": "code",
   "execution_count": 12,
   "metadata": {},
   "outputs": [
    {
     "name": "stdout",
     "output_type": "stream",
     "text": [
      "Train score: 1.00\n",
      "Test score: 0.85\n"
     ]
    }
   ],
   "source": [
    "dt_reg_1.fit(X_train_reg, y_train_reg)\n",
    "print('Train score: {:.2f}'.format(dt_reg_1.score(X_train_reg, y_train_reg)))\n",
    "print('Test score: {:.2f}'.format(dt_reg_1.score(X_test_reg, y_test_reg)))"
   ]
  },
  {
   "cell_type": "markdown",
   "metadata": {},
   "source": [
    "Bagging with Linear Regression"
   ]
  },
  {
   "cell_type": "code",
   "execution_count": 13,
   "metadata": {},
   "outputs": [],
   "source": [
    "from sklearn.model_selection import GridSearchCV"
   ]
  },
  {
   "cell_type": "code",
   "execution_count": 14,
   "metadata": {},
   "outputs": [],
   "source": [
    "from sklearn.linear_model import LinearRegression"
   ]
  },
  {
   "cell_type": "code",
   "execution_count": 15,
   "metadata": {},
   "outputs": [],
   "source": [
    "lr_reg_1 = LinearRegression()"
   ]
  },
  {
   "cell_type": "code",
   "execution_count": 16,
   "metadata": {},
   "outputs": [],
   "source": [
    "param_ridge = {'alpha': [0.001, 0.01, 0.1, 1, 10, 100]}"
   ]
  },
  {
   "cell_type": "code",
   "execution_count": 17,
   "metadata": {},
   "outputs": [],
   "source": [
    "bag_lr_reg = BaggingRegressor(lr_reg_1, n_estimators=500, max_samples=5000, bootstrap=True, n_jobs=-1, random_state=0)"
   ]
  },
  {
   "cell_type": "code",
   "execution_count": 18,
   "metadata": {},
   "outputs": [
    {
     "data": {
      "text/plain": [
       "BaggingRegressor(base_estimator=LinearRegression(copy_X=True, fit_intercept=True, n_jobs=None,\n",
       "         normalize=False),\n",
       "         bootstrap=True, bootstrap_features=False, max_features=1.0,\n",
       "         max_samples=5000, n_estimators=500, n_jobs=-1, oob_score=False,\n",
       "         random_state=0, verbose=0, warm_start=False)"
      ]
     },
     "execution_count": 18,
     "metadata": {},
     "output_type": "execute_result"
    }
   ],
   "source": [
    "bag_lr_reg.fit(X_train_reg, y_train_reg)"
   ]
  },
  {
   "cell_type": "code",
   "execution_count": 19,
   "metadata": {},
   "outputs": [
    {
     "name": "stdout",
     "output_type": "stream",
     "text": [
      "Train score: 0.95\n",
      "Test score: 0.87\n"
     ]
    }
   ],
   "source": [
    "print('Train score: {:.2f}'.format(bag_lr_reg.score(X_train_reg, y_train_reg)))\n",
    "print('Test score: {:.2f}'.format(bag_lr_reg.score(X_test_reg, y_test_reg)))"
   ]
  },
  {
   "cell_type": "markdown",
   "metadata": {},
   "source": [
    "### Pasting"
   ]
  },
  {
   "cell_type": "markdown",
   "metadata": {},
   "source": [
    "Pasting with Ridge Regression"
   ]
  },
  {
   "cell_type": "code",
   "execution_count": 20,
   "metadata": {},
   "outputs": [],
   "source": [
    "from  sklearn.linear_model import Ridge"
   ]
  },
  {
   "cell_type": "code",
   "execution_count": 21,
   "metadata": {},
   "outputs": [],
   "source": [
    "pst_ridge_reg = BaggingRegressor(Ridge(alpha = 1), n_estimators=500, max_samples=5000, bootstrap=False, n_jobs=-1, random_state=0)"
   ]
  },
  {
   "cell_type": "code",
   "execution_count": 22,
   "metadata": {},
   "outputs": [
    {
     "data": {
      "text/plain": [
       "BaggingRegressor(base_estimator=Ridge(alpha=1, copy_X=True, fit_intercept=True, max_iter=None,\n",
       "   normalize=False, random_state=None, solver='auto', tol=0.001),\n",
       "         bootstrap=False, bootstrap_features=False, max_features=1.0,\n",
       "         max_samples=5000, n_estimators=500, n_jobs=-1, oob_score=False,\n",
       "         random_state=0, verbose=0, warm_start=False)"
      ]
     },
     "execution_count": 22,
     "metadata": {},
     "output_type": "execute_result"
    }
   ],
   "source": [
    "pst_ridge_reg.fit(X_train_reg, y_train_reg)"
   ]
  },
  {
   "cell_type": "code",
   "execution_count": 23,
   "metadata": {},
   "outputs": [
    {
     "name": "stdout",
     "output_type": "stream",
     "text": [
      "Train score: 0.93\n",
      "Test score: 0.84\n"
     ]
    }
   ],
   "source": [
    "print('Train score: {:.2f}'.format(pst_ridge_reg.score(X_train_reg, y_train_reg)))\n",
    "print('Test score: {:.2f}'.format(pst_ridge_reg.score(X_test_reg, y_test_reg)))"
   ]
  },
  {
   "cell_type": "markdown",
   "metadata": {},
   "source": [
    "Pasting with Linear SVR"
   ]
  },
  {
   "cell_type": "code",
   "execution_count": 24,
   "metadata": {},
   "outputs": [],
   "source": [
    "from sklearn.svm import LinearSVR"
   ]
  },
  {
   "cell_type": "code",
   "execution_count": 25,
   "metadata": {},
   "outputs": [],
   "source": [
    "pst_linSVR_reg = BaggingRegressor(LinearSVR(C = 100), n_estimators=100, max_samples=2000, bootstrap=False, n_jobs=-1, random_state=0)"
   ]
  },
  {
   "cell_type": "code",
   "execution_count": 26,
   "metadata": {},
   "outputs": [
    {
     "data": {
      "text/plain": [
       "BaggingRegressor(base_estimator=LinearSVR(C=100, dual=True, epsilon=0.0, fit_intercept=True,\n",
       "     intercept_scaling=1.0, loss='epsilon_insensitive', max_iter=1000,\n",
       "     random_state=None, tol=0.0001, verbose=0),\n",
       "         bootstrap=False, bootstrap_features=False, max_features=1.0,\n",
       "         max_samples=2000, n_estimators=100, n_jobs=-1, oob_score=False,\n",
       "         random_state=0, verbose=0, warm_start=False)"
      ]
     },
     "execution_count": 26,
     "metadata": {},
     "output_type": "execute_result"
    }
   ],
   "source": [
    "pst_linSVR_reg.fit(X_train_reg, y_train_reg)"
   ]
  },
  {
   "cell_type": "code",
   "execution_count": 27,
   "metadata": {},
   "outputs": [
    {
     "name": "stdout",
     "output_type": "stream",
     "text": [
      "Train score: 0.92\n",
      "Test score: 0.84\n"
     ]
    }
   ],
   "source": [
    "print('Train score: {:.2f}'.format(pst_linSVR_reg.score(X_train_reg, y_train_reg)))\n",
    "print('Test score: {:.2f}'.format(pst_linSVR_reg.score(X_test_reg, y_test_reg)))"
   ]
  },
  {
   "cell_type": "markdown",
   "metadata": {},
   "source": [
    "### AdaBoost"
   ]
  },
  {
   "cell_type": "markdown",
   "metadata": {},
   "source": [
    "AdaBoost with Lasso Regression"
   ]
  },
  {
   "cell_type": "code",
   "execution_count": 106,
   "metadata": {},
   "outputs": [],
   "source": [
    "from sklearn.ensemble import AdaBoostRegressor"
   ]
  },
  {
   "cell_type": "code",
   "execution_count": 107,
   "metadata": {},
   "outputs": [],
   "source": [
    "from sklearn.tree import DecisionTreeRegressor\n",
    "dt_reg_2 = DecisionTreeRegressor(random_state=0)"
   ]
  },
  {
   "cell_type": "code",
   "execution_count": 108,
   "metadata": {
    "scrolled": true
   },
   "outputs": [
    {
     "data": {
      "text/plain": [
       "AdaBoostRegressor(base_estimator=DecisionTreeRegressor(criterion='mse', max_depth=None, max_features=None,\n",
       "           max_leaf_nodes=None, min_impurity_decrease=0.0,\n",
       "           min_impurity_split=None, min_samples_leaf=1,\n",
       "           min_samples_split=2, min_weight_fraction_leaf=0.0,\n",
       "           presort=False, random_state=0, splitter='best'),\n",
       "         learning_rate=0.5, loss='linear', n_estimators=200,\n",
       "         random_state=0)"
      ]
     },
     "execution_count": 108,
     "metadata": {},
     "output_type": "execute_result"
    }
   ],
   "source": [
    "ada_dt_reg = AdaBoostRegressor(dt_reg_2, n_estimators=200, learning_rate=0.5, random_state=0)\n",
    "ada_dt_reg.fit(X_train_reg, y_train_reg)"
   ]
  },
  {
   "cell_type": "code",
   "execution_count": 109,
   "metadata": {},
   "outputs": [
    {
     "name": "stdout",
     "output_type": "stream",
     "text": [
      "Train score: 1.00\n",
      "Test score: 0.90\n"
     ]
    }
   ],
   "source": [
    "print('Train score: {:.2f}'.format(ada_dt_reg.score(X_train_reg, y_train_reg)))\n",
    "print('Test score: {:.2f}'.format(ada_dt_reg.score(X_test_reg, y_test_reg)))"
   ]
  },
  {
   "cell_type": "markdown",
   "metadata": {},
   "source": [
    "AdaBoost with Linear Regression"
   ]
  },
  {
   "cell_type": "code",
   "execution_count": 33,
   "metadata": {},
   "outputs": [
    {
     "data": {
      "text/plain": [
       "AdaBoostRegressor(base_estimator=LinearRegression(copy_X=True, fit_intercept=True, n_jobs=None,\n",
       "         normalize=False),\n",
       "         learning_rate=0.5, loss='linear', n_estimators=200,\n",
       "         random_state=0)"
      ]
     },
     "execution_count": 33,
     "metadata": {},
     "output_type": "execute_result"
    }
   ],
   "source": [
    "ada_lreg = AdaBoostRegressor(LinearRegression(), n_estimators=200, learning_rate=0.5, random_state=0)\n",
    "ada_lreg.fit(X_train_reg, y_train_reg)"
   ]
  },
  {
   "cell_type": "code",
   "execution_count": 34,
   "metadata": {},
   "outputs": [
    {
     "name": "stdout",
     "output_type": "stream",
     "text": [
      "Train score: 0.92\n",
      "Test score: 0.84\n"
     ]
    }
   ],
   "source": [
    "print('Train score: {:.2f}'.format(ada_lreg.score(X_train_reg, y_train_reg)))\n",
    "print('Test score: {:.2f}'.format(ada_lreg.score(X_test_reg, y_test_reg)))"
   ]
  },
  {
   "cell_type": "markdown",
   "metadata": {},
   "source": [
    "### Principal Component Analysis"
   ]
  },
  {
   "cell_type": "code",
   "execution_count": 7,
   "metadata": {},
   "outputs": [],
   "source": [
    "from sklearn.decomposition import PCA\n",
    "pca_reg = PCA(n_components = 8)"
   ]
  },
  {
   "cell_type": "code",
   "execution_count": 8,
   "metadata": {},
   "outputs": [],
   "source": [
    "X_train_pca_reg = pca_reg.fit_transform(X_train_reg)"
   ]
  },
  {
   "cell_type": "code",
   "execution_count": 9,
   "metadata": {},
   "outputs": [],
   "source": [
    "X_test_pca_reg = pca_reg.transform(X_test_reg)"
   ]
  },
  {
   "cell_type": "code",
   "execution_count": 10,
   "metadata": {},
   "outputs": [
    {
     "data": {
      "text/plain": [
       "array([0.37087554, 0.16583498, 0.10616318, 0.09726101, 0.08547418,\n",
       "       0.07942825, 0.05420108, 0.02964383])"
      ]
     },
     "execution_count": 10,
     "metadata": {},
     "output_type": "execute_result"
    }
   ],
   "source": [
    "pca_reg.explained_variance_ratio_"
   ]
  },
  {
   "cell_type": "code",
   "execution_count": 11,
   "metadata": {},
   "outputs": [
    {
     "data": {
      "text/plain": [
       "0.011117954064100766"
      ]
     },
     "execution_count": 11,
     "metadata": {},
     "output_type": "execute_result"
    }
   ],
   "source": [
    "1 - pca_reg.explained_variance_ratio_.sum()"
   ]
  },
  {
   "cell_type": "code",
   "execution_count": 12,
   "metadata": {},
   "outputs": [
    {
     "data": {
      "text/plain": [
       "0.9888820459358992"
      ]
     },
     "execution_count": 12,
     "metadata": {},
     "output_type": "execute_result"
    }
   ],
   "source": [
    "np.sum(pca_reg.explained_variance_ratio_)"
   ]
  },
  {
   "cell_type": "markdown",
   "metadata": {},
   "source": [
    "So, 8 principal components explain more than 98% of the variation in the data"
   ]
  },
  {
   "cell_type": "markdown",
   "metadata": {},
   "source": [
    "Linear Regression"
   ]
  },
  {
   "cell_type": "code",
   "execution_count": 16,
   "metadata": {},
   "outputs": [],
   "source": [
    "from sklearn.linear_model import LinearRegression\n",
    "lreg = LinearRegression()"
   ]
  },
  {
   "cell_type": "code",
   "execution_count": 17,
   "metadata": {},
   "outputs": [
    {
     "data": {
      "text/plain": [
       "LinearRegression(copy_X=True, fit_intercept=True, n_jobs=None,\n",
       "         normalize=False)"
      ]
     },
     "execution_count": 17,
     "metadata": {},
     "output_type": "execute_result"
    }
   ],
   "source": [
    "lreg.fit(X_train_pca_reg, y_train_reg)"
   ]
  },
  {
   "cell_type": "code",
   "execution_count": 18,
   "metadata": {},
   "outputs": [
    {
     "name": "stdout",
     "output_type": "stream",
     "text": [
      "Cross-validation scores: [0.87853782 0.87971336 0.821347   0.87093465 0.87317646]\n"
     ]
    }
   ],
   "source": [
    "from sklearn.model_selection import cross_val_score\n",
    "scores_lreg = cross_val_score(lreg, X_train_pca_reg, y_train_reg, cv=5)\n",
    "print(\"Cross-validation scores: {}\".format(scores_lreg))"
   ]
  },
  {
   "cell_type": "code",
   "execution_count": 19,
   "metadata": {},
   "outputs": [
    {
     "name": "stdout",
     "output_type": "stream",
     "text": [
      "Average cross-validation score: 0.86\n"
     ]
    }
   ],
   "source": [
    "print(\"Average cross-validation score: {:.2f}\".format(scores_lreg.mean()))"
   ]
  },
  {
   "cell_type": "code",
   "execution_count": 20,
   "metadata": {},
   "outputs": [
    {
     "name": "stdout",
     "output_type": "stream",
     "text": [
      "Test score: 0.8834\n"
     ]
    }
   ],
   "source": [
    "print('Test score: {:.4f}'.format(lreg.score(X_test_pca_reg, y_test_reg)))"
   ]
  },
  {
   "cell_type": "code",
   "execution_count": 21,
   "metadata": {},
   "outputs": [],
   "source": [
    "table_pca_reg = [['linear_regression', ' ', scores_lreg.mean(), lreg.score(X_test_pca_reg, y_test_reg)]]"
   ]
  },
  {
   "cell_type": "markdown",
   "metadata": {},
   "source": [
    "Polynomial Regression"
   ]
  },
  {
   "cell_type": "code",
   "execution_count": 22,
   "metadata": {},
   "outputs": [],
   "source": [
    "from  sklearn.preprocessing  import PolynomialFeatures"
   ]
  },
  {
   "cell_type": "code",
   "execution_count": 23,
   "metadata": {},
   "outputs": [],
   "source": [
    "lreg_pol = LinearRegression()"
   ]
  },
  {
   "cell_type": "code",
   "execution_count": 24,
   "metadata": {},
   "outputs": [],
   "source": [
    "train_score_poly = []\n",
    "test_score_poly = []\n",
    "\n",
    "for n in range(1,3):\n",
    "    poly = PolynomialFeatures(n)\n",
    "    X_train_poly = poly.fit_transform(X_train_pca_reg)\n",
    "    X_test_poly = poly.transform(X_test_pca_reg)\n",
    "    lreg_pol.fit(X_train_poly, y_train_reg)\n",
    "    train_score_poly.append(lreg_pol.score(X_train_poly, y_train_reg))\n",
    "    test_score_poly.append(lreg_pol.score(X_test_poly, y_test_reg))"
   ]
  },
  {
   "cell_type": "code",
   "execution_count": 25,
   "metadata": {},
   "outputs": [
    {
     "name": "stdout",
     "output_type": "stream",
     "text": [
      "[0.864066399475124, 0.8687645071972486]\n",
      "[0.8834435677326181, 0.8892949314522351]\n"
     ]
    }
   ],
   "source": [
    "print(train_score_poly)\n",
    "print(test_score_poly)"
   ]
  },
  {
   "cell_type": "code",
   "execution_count": 26,
   "metadata": {},
   "outputs": [
    {
     "data": {
      "text/plain": [
       "<matplotlib.legend.Legend at 0x1958aca2160>"
      ]
     },
     "execution_count": 26,
     "metadata": {},
     "output_type": "execute_result"
    },
    {
     "data": {
      "image/png": "[encoded data removed]",
      "text/plain": [
       "<Figure size 432x288 with 1 Axes>"
      ]
     },
     "metadata": {
      "needs_background": "light"
     },
     "output_type": "display_data"
    }
   ],
   "source": [
    "x_axis = range(1,3)\n",
    "plt.plot(x_axis, train_score_poly, c = 'g', label = 'Train Score')\n",
    "plt.plot(x_axis, test_score_poly, c = 'b', label = 'Test Score')\n",
    "plt.xlabel('degree')\n",
    "plt.ylabel('accuracy')\n",
    "plt.legend()"
   ]
  },
  {
   "cell_type": "markdown",
   "metadata": {},
   "source": [
    "Ridge Regression"
   ]
  },
  {
   "cell_type": "code",
   "execution_count": 27,
   "metadata": {},
   "outputs": [],
   "source": [
    "from sklearn.model_selection import GridSearchCV"
   ]
  },
  {
   "cell_type": "code",
   "execution_count": 28,
   "metadata": {},
   "outputs": [],
   "source": [
    "from  sklearn.linear_model import Ridge"
   ]
  },
  {
   "cell_type": "code",
   "execution_count": 29,
   "metadata": {},
   "outputs": [],
   "source": [
    "param_ridge = {'alpha': [0.001, 0.01, 0.1, 1, 10, 100]}"
   ]
  },
  {
   "cell_type": "code",
   "execution_count": 30,
   "metadata": {},
   "outputs": [],
   "source": [
    "grid_ridge = GridSearchCV(Ridge(), param_ridge, cv=5, return_train_score=True)"
   ]
  },
  {
   "cell_type": "code",
   "execution_count": 31,
   "metadata": {},
   "outputs": [
    {
     "data": {
      "text/plain": [
       "GridSearchCV(cv=5, error_score='raise-deprecating',\n",
       "       estimator=Ridge(alpha=1.0, copy_X=True, fit_intercept=True, max_iter=None,\n",
       "   normalize=False, random_state=None, solver='auto', tol=0.001),\n",
       "       fit_params=None, iid='warn', n_jobs=None,\n",
       "       param_grid={'alpha': [0.001, 0.01, 0.1, 1, 10, 100]},\n",
       "       pre_dispatch='2*n_jobs', refit=True, return_train_score=True,\n",
       "       scoring=None, verbose=0)"
      ]
     },
     "execution_count": 31,
     "metadata": {},
     "output_type": "execute_result"
    }
   ],
   "source": [
    "grid_ridge.fit(X_train_pca_reg, y_train_reg)"
   ]
  },
  {
   "cell_type": "code",
   "execution_count": 32,
   "metadata": {},
   "outputs": [
    {
     "name": "stdout",
     "output_type": "stream",
     "text": [
      "Best parameters: {'alpha': 10}\n",
      "Best cross-validation score: 0.8649\n"
     ]
    }
   ],
   "source": [
    "print(\"Best parameters: {}\".format(grid_ridge.best_params_))\n",
    "print(\"Best cross-validation score: {:.4f}\".format(grid_ridge.best_score_))"
   ]
  },
  {
   "cell_type": "code",
   "execution_count": 33,
   "metadata": {},
   "outputs": [
    {
     "data": {
      "text/plain": [
       "0.8837801058231803"
      ]
     },
     "execution_count": 33,
     "metadata": {},
     "output_type": "execute_result"
    }
   ],
   "source": [
    "grid_ridge.score(X_test_pca_reg, y_test_reg)"
   ]
  },
  {
   "cell_type": "code",
   "execution_count": 34,
   "metadata": {},
   "outputs": [],
   "source": [
    "table_pca_reg = table_pca_reg + [['Ridge Regression', 'alpha: 1', grid_ridge.score(X_train_pca_reg, y_train_reg), grid_ridge.score(X_test_pca_reg, y_test_reg)]]"
   ]
  },
  {
   "cell_type": "markdown",
   "metadata": {},
   "source": [
    "Lasso Regression"
   ]
  },
  {
   "cell_type": "code",
   "execution_count": 35,
   "metadata": {},
   "outputs": [],
   "source": [
    "from  sklearn.linear_model import Lasso"
   ]
  },
  {
   "cell_type": "code",
   "execution_count": 36,
   "metadata": {},
   "outputs": [],
   "source": [
    "param_lasso = {'alpha': [0.001, 0.01, 0.1, 1, 10, 100, 1000, 10000]}"
   ]
  },
  {
   "cell_type": "code",
   "execution_count": 37,
   "metadata": {},
   "outputs": [],
   "source": [
    "grid_lasso = GridSearchCV(Lasso(), param_lasso, cv=5, return_train_score=True)"
   ]
  },
  {
   "cell_type": "code",
   "execution_count": 38,
   "metadata": {},
   "outputs": [
    {
     "data": {
      "text/plain": [
       "GridSearchCV(cv=5, error_score='raise-deprecating',\n",
       "       estimator=Lasso(alpha=1.0, copy_X=True, fit_intercept=True, max_iter=1000,\n",
       "   normalize=False, positive=False, precompute=False, random_state=None,\n",
       "   selection='cyclic', tol=0.0001, warm_start=False),\n",
       "       fit_params=None, iid='warn', n_jobs=None,\n",
       "       param_grid={'alpha': [0.001, 0.01, 0.1, 1, 10, 100, 1000, 10000]},\n",
       "       pre_dispatch='2*n_jobs', refit=True, return_train_score=True,\n",
       "       scoring=None, verbose=0)"
      ]
     },
     "execution_count": 38,
     "metadata": {},
     "output_type": "execute_result"
    }
   ],
   "source": [
    "grid_lasso.fit(X_train_pca_reg, y_train_reg)"
   ]
  },
  {
   "cell_type": "code",
   "execution_count": 39,
   "metadata": {},
   "outputs": [
    {
     "name": "stdout",
     "output_type": "stream",
     "text": [
      "Best parameters: {'alpha': 0.1}\n",
      "Best cross-validation score: 0.8648\n"
     ]
    }
   ],
   "source": [
    "print(\"Best parameters: {}\".format(grid_lasso.best_params_))\n",
    "print(\"Best cross-validation score: {:.4f}\".format(grid_lasso.best_score_))"
   ]
  },
  {
   "cell_type": "code",
   "execution_count": 40,
   "metadata": {},
   "outputs": [
    {
     "data": {
      "text/plain": [
       "0.8834958649593476"
      ]
     },
     "execution_count": 40,
     "metadata": {},
     "output_type": "execute_result"
    }
   ],
   "source": [
    "grid_lasso.score(X_test_pca_reg, y_test_reg)"
   ]
  },
  {
   "cell_type": "code",
   "execution_count": 41,
   "metadata": {},
   "outputs": [],
   "source": [
    "table_pca_reg = table_pca_reg + [['Lasso Regression', 'alpha: 0.1', grid_lasso.score(X_train_pca_reg, y_train_reg), grid_lasso.score(X_test_pca_reg, y_test_reg)]]"
   ]
  },
  {
   "cell_type": "markdown",
   "metadata": {},
   "source": [
    "KNN Regressor"
   ]
  },
  {
   "cell_type": "code",
   "execution_count": 42,
   "metadata": {},
   "outputs": [],
   "source": [
    "from sklearn.neighbors import KNeighborsRegressor"
   ]
  },
  {
   "cell_type": "code",
   "execution_count": 43,
   "metadata": {},
   "outputs": [
    {
     "data": {
      "text/plain": [
       "GridSearchCV(cv=5, error_score='raise-deprecating',\n",
       "       estimator=KNeighborsRegressor(algorithm='auto', leaf_size=30, metric='minkowski',\n",
       "          metric_params=None, n_jobs=None, n_neighbors=5, p=2,\n",
       "          weights='uniform'),\n",
       "       fit_params=None, iid='warn', n_jobs=None,\n",
       "       param_grid={'n_neighbors': [1, 5, 10, 15, 20]},\n",
       "       pre_dispatch='2*n_jobs', refit=True, return_train_score=True,\n",
       "       scoring=None, verbose=0)"
      ]
     },
     "execution_count": 43,
     "metadata": {},
     "output_type": "execute_result"
    }
   ],
   "source": [
    "knn_reg = KNeighborsRegressor()\n",
    "\n",
    "param_knn_reg = {'n_neighbors':[1, 5, 10, 15, 20]}\n",
    "\n",
    "grid_knn_reg = GridSearchCV(knn_reg, param_knn_reg, cv = 5, return_train_score=True)\n",
    "grid_knn_reg.fit(X_train_pca_reg, y_train_reg)"
   ]
  },
  {
   "cell_type": "code",
   "execution_count": 44,
   "metadata": {},
   "outputs": [
    {
     "data": {
      "text/plain": [
       "0.8818419914980058"
      ]
     },
     "execution_count": 44,
     "metadata": {},
     "output_type": "execute_result"
    }
   ],
   "source": [
    "grid_knn_reg.score(X_train_pca_reg, y_train_reg)"
   ]
  },
  {
   "cell_type": "code",
   "execution_count": 45,
   "metadata": {},
   "outputs": [
    {
     "data": {
      "text/plain": [
       "{'n_neighbors': 20}"
      ]
     },
     "execution_count": 45,
     "metadata": {},
     "output_type": "execute_result"
    }
   ],
   "source": [
    "grid_knn_reg.best_params_"
   ]
  },
  {
   "cell_type": "code",
   "execution_count": 46,
   "metadata": {},
   "outputs": [
    {
     "data": {
      "text/plain": [
       "0.8917474657025621"
      ]
     },
     "execution_count": 46,
     "metadata": {},
     "output_type": "execute_result"
    }
   ],
   "source": [
    "grid_knn_reg.score(X_test_pca_reg, y_test_reg)"
   ]
  },
  {
   "cell_type": "code",
   "execution_count": 47,
   "metadata": {},
   "outputs": [],
   "source": [
    "table_pca_reg = table_pca_reg + [['KNN Regression', 'n_neighbors: 20', grid_knn_reg.score(X_train_pca_reg, y_train_reg), grid_knn_reg.score(X_test_pca_reg, y_test_reg)]]"
   ]
  },
  {
   "cell_type": "markdown",
   "metadata": {},
   "source": [
    "Linear SVR"
   ]
  },
  {
   "cell_type": "code",
   "execution_count": 48,
   "metadata": {},
   "outputs": [],
   "source": [
    "from sklearn.svm import LinearSVR"
   ]
  },
  {
   "cell_type": "code",
   "execution_count": 49,
   "metadata": {},
   "outputs": [],
   "source": [
    "param_linSvr = {'C':[1, 10, 100, 1000, 10000]}"
   ]
  },
  {
   "cell_type": "code",
   "execution_count": 50,
   "metadata": {},
   "outputs": [],
   "source": [
    "linSvr = GridSearchCV(LinearSVR(), param_linSvr, cv = 5, return_train_score = True)"
   ]
  },
  {
   "cell_type": "code",
   "execution_count": 51,
   "metadata": {
    "scrolled": true
   },
   "outputs": [
    {
     "name": "stderr",
     "output_type": "stream",
     "text": [
      "c:\\users\\ravi\\appdata\\local\\programs\\python\\python36\\lib\\site-packages\\sklearn\\svm\\base.py:922: ConvergenceWarning: Liblinear failed to converge, increase the number of iterations.\n",
      "  \"the number of iterations.\", ConvergenceWarning)\n",
      "c:\\users\\ravi\\appdata\\local\\programs\\python\\python36\\lib\\site-packages\\sklearn\\svm\\base.py:922: ConvergenceWarning: Liblinear failed to converge, increase the number of iterations.\n",
      "  \"the number of iterations.\", ConvergenceWarning)\n",
      "c:\\users\\ravi\\appdata\\local\\programs\\python\\python36\\lib\\site-packages\\sklearn\\svm\\base.py:922: ConvergenceWarning: Liblinear failed to converge, increase the number of iterations.\n",
      "  \"the number of iterations.\", ConvergenceWarning)\n",
      "c:\\users\\ravi\\appdata\\local\\programs\\python\\python36\\lib\\site-packages\\sklearn\\svm\\base.py:922: ConvergenceWarning: Liblinear failed to converge, increase the number of iterations.\n",
      "  \"the number of iterations.\", ConvergenceWarning)\n",
      "c:\\users\\ravi\\appdata\\local\\programs\\python\\python36\\lib\\site-packages\\sklearn\\svm\\base.py:922: ConvergenceWarning: Liblinear failed to converge, increase the number of iterations.\n",
      "  \"the number of iterations.\", ConvergenceWarning)\n",
      "c:\\users\\ravi\\appdata\\local\\programs\\python\\python36\\lib\\site-packages\\sklearn\\svm\\base.py:922: ConvergenceWarning: Liblinear failed to converge, increase the number of iterations.\n",
      "  \"the number of iterations.\", ConvergenceWarning)\n",
      "c:\\users\\ravi\\appdata\\local\\programs\\python\\python36\\lib\\site-packages\\sklearn\\svm\\base.py:922: ConvergenceWarning: Liblinear failed to converge, increase the number of iterations.\n",
      "  \"the number of iterations.\", ConvergenceWarning)\n",
      "c:\\users\\ravi\\appdata\\local\\programs\\python\\python36\\lib\\site-packages\\sklearn\\svm\\base.py:922: ConvergenceWarning: Liblinear failed to converge, increase the number of iterations.\n",
      "  \"the number of iterations.\", ConvergenceWarning)\n",
      "c:\\users\\ravi\\appdata\\local\\programs\\python\\python36\\lib\\site-packages\\sklearn\\svm\\base.py:922: ConvergenceWarning: Liblinear failed to converge, increase the number of iterations.\n",
      "  \"the number of iterations.\", ConvergenceWarning)\n",
      "c:\\users\\ravi\\appdata\\local\\programs\\python\\python36\\lib\\site-packages\\sklearn\\svm\\base.py:922: ConvergenceWarning: Liblinear failed to converge, increase the number of iterations.\n",
      "  \"the number of iterations.\", ConvergenceWarning)\n",
      "c:\\users\\ravi\\appdata\\local\\programs\\python\\python36\\lib\\site-packages\\sklearn\\svm\\base.py:922: ConvergenceWarning: Liblinear failed to converge, increase the number of iterations.\n",
      "  \"the number of iterations.\", ConvergenceWarning)\n",
      "c:\\users\\ravi\\appdata\\local\\programs\\python\\python36\\lib\\site-packages\\sklearn\\svm\\base.py:922: ConvergenceWarning: Liblinear failed to converge, increase the number of iterations.\n",
      "  \"the number of iterations.\", ConvergenceWarning)\n",
      "c:\\users\\ravi\\appdata\\local\\programs\\python\\python36\\lib\\site-packages\\sklearn\\svm\\base.py:922: ConvergenceWarning: Liblinear failed to converge, increase the number of iterations.\n",
      "  \"the number of iterations.\", ConvergenceWarning)\n",
      "c:\\users\\ravi\\appdata\\local\\programs\\python\\python36\\lib\\site-packages\\sklearn\\svm\\base.py:922: ConvergenceWarning: Liblinear failed to converge, increase the number of iterations.\n",
      "  \"the number of iterations.\", ConvergenceWarning)\n",
      "c:\\users\\ravi\\appdata\\local\\programs\\python\\python36\\lib\\site-packages\\sklearn\\svm\\base.py:922: ConvergenceWarning: Liblinear failed to converge, increase the number of iterations.\n",
      "  \"the number of iterations.\", ConvergenceWarning)\n",
      "c:\\users\\ravi\\appdata\\local\\programs\\python\\python36\\lib\\site-packages\\sklearn\\svm\\base.py:922: ConvergenceWarning: Liblinear failed to converge, increase the number of iterations.\n",
      "  \"the number of iterations.\", ConvergenceWarning)\n"
     ]
    },
    {
     "data": {
      "text/plain": [
       "GridSearchCV(cv=5, error_score='raise-deprecating',\n",
       "       estimator=LinearSVR(C=1.0, dual=True, epsilon=0.0, fit_intercept=True,\n",
       "     intercept_scaling=1.0, loss='epsilon_insensitive', max_iter=1000,\n",
       "     random_state=None, tol=0.0001, verbose=0),\n",
       "       fit_params=None, iid='warn', n_jobs=None,\n",
       "       param_grid={'C': [1, 10, 100, 1000, 10000]},\n",
       "       pre_dispatch='2*n_jobs', refit=True, return_train_score=True,\n",
       "       scoring=None, verbose=0)"
      ]
     },
     "execution_count": 51,
     "metadata": {},
     "output_type": "execute_result"
    }
   ],
   "source": [
    "linSvr.fit(X_train_pca_reg, y_train_reg)"
   ]
  },
  {
   "cell_type": "code",
   "execution_count": 52,
   "metadata": {},
   "outputs": [
    {
     "data": {
      "text/plain": [
       "{'C': 10000}"
      ]
     },
     "execution_count": 52,
     "metadata": {},
     "output_type": "execute_result"
    }
   ],
   "source": [
    "linSvr.best_params_"
   ]
  },
  {
   "cell_type": "code",
   "execution_count": 53,
   "metadata": {},
   "outputs": [
    {
     "name": "stdout",
     "output_type": "stream",
     "text": [
      "Best cross-validation score: 0.8511\n"
     ]
    }
   ],
   "source": [
    "print(\"Best cross-validation score: {:.4f}\".format(linSvr.best_score_))"
   ]
  },
  {
   "cell_type": "code",
   "execution_count": 54,
   "metadata": {},
   "outputs": [
    {
     "name": "stdout",
     "output_type": "stream",
     "text": [
      "Test score: 0.8709\n"
     ]
    }
   ],
   "source": [
    "print('Test score: {:.4f}'.format(linSvr.score(X_test_pca_reg, y_test_reg)))"
   ]
  },
  {
   "cell_type": "code",
   "execution_count": 55,
   "metadata": {},
   "outputs": [],
   "source": [
    "table_pca_reg = table_pca_reg + [['Linear Support Vector Regression', 'C: 10000', linSvr.score(X_train_pca_reg, y_train_reg), linSvr.score(X_test_pca_reg, y_test_reg)]]"
   ]
  },
  {
   "cell_type": "code",
   "execution_count": 60,
   "metadata": {},
   "outputs": [],
   "source": [
    "report_reg = pd.DataFrame(table_pca_reg,columns = ['Model name', 'Model parameter', 'Train accuracy', 'Test accuracy'])"
   ]
  },
  {
   "cell_type": "code",
   "execution_count": 61,
   "metadata": {},
   "outputs": [
    {
     "data": {
      "text/html": [
       "<div>\n",
       "<style scoped>\n",
       "    .dataframe tbody tr th:only-of-type {\n",
       "        vertical-align: middle;\n",
       "    }\n",
       "\n",
       "    .dataframe tbody tr th {\n",
       "        vertical-align: top;\n",
       "    }\n",
       "\n",
       "    .dataframe thead th {\n",
       "        text-align: right;\n",
       "    }\n",
       "</style>\n",
       "<table border=\"1\" class=\"dataframe\">\n",
       "  <thead>\n",
       "    <tr style=\"text-align: right;\">\n",
       "      <th></th>\n",
       "      <th>Model parameter</th>\n",
       "      <th>Train accuracy</th>\n",
       "      <th>Test accuracy</th>\n",
       "    </tr>\n",
       "    <tr>\n",
       "      <th>Model name</th>\n",
       "      <th></th>\n",
       "      <th></th>\n",
       "      <th></th>\n",
       "    </tr>\n",
       "  </thead>\n",
       "  <tbody>\n",
       "    <tr>\n",
       "      <th>linear_regression</th>\n",
       "      <td></td>\n",
       "      <td>0.864742</td>\n",
       "      <td>0.883444</td>\n",
       "    </tr>\n",
       "    <tr>\n",
       "      <th>Ridge Regression</th>\n",
       "      <td>alpha: 1</td>\n",
       "      <td>0.863994</td>\n",
       "      <td>0.883780</td>\n",
       "    </tr>\n",
       "    <tr>\n",
       "      <th>Lasso Regression</th>\n",
       "      <td>alpha: 0.1</td>\n",
       "      <td>0.864063</td>\n",
       "      <td>0.883496</td>\n",
       "    </tr>\n",
       "    <tr>\n",
       "      <th>KNN Regression</th>\n",
       "      <td>n_neighbors: 20</td>\n",
       "      <td>0.881842</td>\n",
       "      <td>0.891747</td>\n",
       "    </tr>\n",
       "    <tr>\n",
       "      <th>Linear Support Vector Regression</th>\n",
       "      <td>C: 10000</td>\n",
       "      <td>0.846199</td>\n",
       "      <td>0.870892</td>\n",
       "    </tr>\n",
       "  </tbody>\n",
       "</table>\n",
       "</div>"
      ],
      "text/plain": [
       "                                  Model parameter  Train accuracy  \\\n",
       "Model name                                                          \n",
       "linear_regression                                        0.864742   \n",
       "Ridge Regression                         alpha: 1        0.863994   \n",
       "Lasso Regression                       alpha: 0.1        0.864063   \n",
       "KNN Regression                    n_neighbors: 20        0.881842   \n",
       "Linear Support Vector Regression         C: 10000        0.846199   \n",
       "\n",
       "                                  Test accuracy  \n",
       "Model name                                       \n",
       "linear_regression                      0.883444  \n",
       "Ridge Regression                       0.883780  \n",
       "Lasso Regression                       0.883496  \n",
       "KNN Regression                         0.891747  \n",
       "Linear Support Vector Regression       0.870892  "
      ]
     },
     "execution_count": 61,
     "metadata": {},
     "output_type": "execute_result"
    }
   ],
   "source": [
    "report_reg.set_index('Model name')"
   ]
  },
  {
   "cell_type": "markdown",
   "metadata": {},
   "source": [
    "### Deep Learning"
   ]
  },
  {
   "cell_type": "code",
   "execution_count": 7,
   "metadata": {},
   "outputs": [
    {
     "name": "stderr",
     "output_type": "stream",
     "text": [
      "Using TensorFlow backend.\n"
     ]
    }
   ],
   "source": [
    "from keras.models import Sequential\n",
    "from keras.layers import Dense\n",
    "import numpy\n",
    "\n",
    "numpy.random.seed(10)"
   ]
  },
  {
   "cell_type": "code",
   "execution_count": 8,
   "metadata": {},
   "outputs": [
    {
     "data": {
      "text/plain": [
       "(583250, 77)"
      ]
     },
     "execution_count": 8,
     "metadata": {},
     "output_type": "execute_result"
    }
   ],
   "source": [
    "X_reg.shape"
   ]
  },
  {
   "cell_type": "code",
   "execution_count": 9,
   "metadata": {},
   "outputs": [],
   "source": [
    "model_reg = Sequential()\n",
    "model_reg.add(Dense(13, input_dim=77, kernel_initializer='normal', activation='relu'))\n",
    "model_reg.add(Dense(1, kernel_initializer='normal'))"
   ]
  },
  {
   "cell_type": "code",
   "execution_count": 10,
   "metadata": {},
   "outputs": [],
   "source": [
    "model_reg.compile(loss='mse', optimizer='sgd' , metrics = ['mse'])"
   ]
  },
  {
   "cell_type": "code",
   "execution_count": 11,
   "metadata": {
    "scrolled": true
   },
   "outputs": [
    {
     "name": "stdout",
     "output_type": "stream",
     "text": [
      "Epoch 1/100\n",
      "40827/40827 [==============================] - 4s 104us/step - loss: 363001314.3433 - mean_squared_error: 363001314.3433\n",
      "Epoch 2/100\n",
      "40827/40827 [==============================] - 3s 79us/step - loss: 357132.8402 - mean_squared_error: 357132.8402\n",
      "Epoch 3/100\n",
      "40827/40827 [==============================] - 3s 76us/step - loss: 357125.2780 - mean_squared_error: 357125.2780\n",
      "Epoch 4/100\n",
      "40827/40827 [==============================] - 3s 76us/step - loss: 357142.7629 - mean_squared_error: 357142.7629\n",
      "Epoch 5/100\n",
      "40827/40827 [==============================] - 3s 75us/step - loss: 357181.0665 - mean_squared_error: 357181.0665\n",
      "Epoch 6/100\n",
      "40827/40827 [==============================] - 4s 90us/step - loss: 357191.3578 - mean_squared_error: 357191.3578\n",
      "Epoch 7/100\n",
      "40827/40827 [==============================] - 3s 69us/step - loss: 357117.0950 - mean_squared_error: 357117.0950\n",
      "Epoch 8/100\n",
      "40827/40827 [==============================] - 4s 94us/step - loss: 357119.0064 - mean_squared_error: 357119.0064\n",
      "Epoch 9/100\n",
      "40827/40827 [==============================] - 3s 85us/step - loss: 357081.9781 - mean_squared_error: 357081.9781\n",
      "Epoch 10/100\n",
      "40827/40827 [==============================] - 4s 93us/step - loss: 357138.3877 - mean_squared_error: 357138.3877\n",
      "Epoch 11/100\n",
      "40827/40827 [==============================] - 3s 64us/step - loss: 357053.2925 - mean_squared_error: 357053.2925\n",
      "Epoch 12/100\n",
      "40827/40827 [==============================] - 2s 51us/step - loss: 357176.0604 - mean_squared_error: 357176.0604\n",
      "Epoch 13/100\n",
      "40827/40827 [==============================] - 2s 55us/step - loss: 357129.2083 - mean_squared_error: 357129.2083\n",
      "Epoch 14/100\n",
      "40827/40827 [==============================] - 2s 55us/step - loss: 357134.0877 - mean_squared_error: 357134.0877\n",
      "Epoch 15/100\n",
      "40827/40827 [==============================] - 2s 50us/step - loss: 357050.8189 - mean_squared_error: 357050.8189\n",
      "Epoch 16/100\n",
      "40827/40827 [==============================] - 2s 58us/step - loss: 357160.3551 - mean_squared_error: 357160.3551\n",
      "Epoch 17/100\n",
      "40827/40827 [==============================] - 3s 71us/step - loss: 357172.9024 - mean_squared_error: 357172.9024\n",
      "Epoch 18/100\n",
      "40827/40827 [==============================] - 3s 62us/step - loss: 357030.2542 - mean_squared_error: 357030.2542\n",
      "Epoch 19/100\n",
      "40827/40827 [==============================] - 2s 55us/step - loss: 357129.4198 - mean_squared_error: 357129.4198\n",
      "Epoch 20/100\n",
      "40827/40827 [==============================] - 2s 52us/step - loss: 357184.1088 - mean_squared_error: 357184.1088\n",
      "Epoch 21/100\n",
      "40827/40827 [==============================] - 2s 53us/step - loss: 357115.5730 - mean_squared_error: 357115.5730\n",
      "Epoch 22/100\n",
      "40827/40827 [==============================] - 2s 49us/step - loss: 357135.3014 - mean_squared_error: 357135.3014\n",
      "Epoch 23/100\n",
      "40827/40827 [==============================] - 2s 50us/step - loss: 357128.6104 - mean_squared_error: 357128.6104\n",
      "Epoch 24/100\n",
      "40827/40827 [==============================] - 2s 55us/step - loss: 357113.6405 - mean_squared_error: 357113.6405\n",
      "Epoch 25/100\n",
      "40827/40827 [==============================] - 2s 52us/step - loss: 357136.8464 - mean_squared_error: 357136.8464\n",
      "Epoch 26/100\n",
      "40827/40827 [==============================] - 2s 51us/step - loss: 357189.5769 - mean_squared_error: 357189.5769\n",
      "Epoch 27/100\n",
      "40827/40827 [==============================] - 2s 52us/step - loss: 357142.9058 - mean_squared_error: 357142.9058\n",
      "Epoch 28/100\n",
      "40827/40827 [==============================] - 2s 57us/step - loss: 357174.7547 - mean_squared_error: 357174.7547\n",
      "Epoch 29/100\n",
      "40827/40827 [==============================] - 2s 56us/step - loss: 357140.7717 - mean_squared_error: 357140.7717\n",
      "Epoch 30/100\n",
      "40827/40827 [==============================] - 2s 52us/step - loss: 357104.4585 - mean_squared_error: 357104.4585\n",
      "Epoch 31/100\n",
      "40827/40827 [==============================] - 2s 49us/step - loss: 357145.7019 - mean_squared_error: 357145.7019\n",
      "Epoch 32/100\n",
      "40827/40827 [==============================] - 2s 49us/step - loss: 357155.9004 - mean_squared_error: 357155.9004\n",
      "Epoch 33/100\n",
      "40827/40827 [==============================] - 2s 50us/step - loss: 357133.3083 - mean_squared_error: 357133.3083\n",
      "Epoch 34/100\n",
      "40827/40827 [==============================] - 2s 52us/step - loss: 357111.7081 - mean_squared_error: 357111.7081\n",
      "Epoch 35/100\n",
      "40827/40827 [==============================] - 2s 55us/step - loss: 357172.9757 - mean_squared_error: 357172.9757\n",
      "Epoch 36/100\n",
      "40827/40827 [==============================] - 3s 67us/step - loss: 357012.9232 - mean_squared_error: 357012.9232\n",
      "Epoch 37/100\n",
      "40827/40827 [==============================] - 3s 68us/step - loss: 357154.9621 - mean_squared_error: 357154.9621\n",
      "Epoch 38/100\n",
      "40827/40827 [==============================] - 3s 80us/step - loss: 357123.3678 - mean_squared_error: 357123.3678\n",
      "Epoch 39/100\n",
      "40827/40827 [==============================] - 4s 89us/step - loss: 357163.9434 - mean_squared_error: 357163.9434\n",
      "Epoch 40/100\n",
      "40827/40827 [==============================] - 4s 87us/step - loss: 357136.5585 - mean_squared_error: 357136.5585\n",
      "Epoch 41/100\n",
      "40827/40827 [==============================] - 3s 79us/step - loss: 357126.6700 - mean_squared_error: 357126.6700\n",
      "Epoch 42/100\n",
      "40827/40827 [==============================] - 3s 74us/step - loss: 357156.2867 - mean_squared_error: 357156.2867\n",
      "Epoch 43/100\n",
      "40827/40827 [==============================] - 3s 71us/step - loss: 357132.6294 - mean_squared_error: 357132.6294\n",
      "Epoch 44/100\n",
      "40827/40827 [==============================] - 3s 71us/step - loss: 357167.6170 - mean_squared_error: 357167.6170\n",
      "Epoch 45/100\n",
      "40827/40827 [==============================] - 3s 72us/step - loss: 357125.4568 - mean_squared_error: 357125.4568\n",
      "Epoch 46/100\n",
      "40827/40827 [==============================] - 3s 69us/step - loss: 357105.0822 - mean_squared_error: 357105.0822\n",
      "Epoch 47/100\n",
      "40827/40827 [==============================] - 3s 69us/step - loss: 357140.3449 - mean_squared_error: 357140.3449\n",
      "Epoch 48/100\n",
      "40827/40827 [==============================] - 3s 71us/step - loss: 357111.5611 - mean_squared_error: 357111.5611\n",
      "Epoch 49/100\n",
      "40827/40827 [==============================] - 3s 71us/step - loss: 357107.6635 - mean_squared_error: 357107.6635\n",
      "Epoch 50/100\n",
      "40827/40827 [==============================] - 3s 68us/step - loss: 357149.0943 - mean_squared_error: 357149.0943\n",
      "Epoch 51/100\n",
      "40827/40827 [==============================] - 3s 74us/step - loss: 357065.8214 - mean_squared_error: 357065.8214\n",
      "Epoch 52/100\n",
      "40827/40827 [==============================] - 3s 77us/step - loss: 357077.9511 - mean_squared_error: 357077.9511\n",
      "Epoch 53/100\n",
      "40827/40827 [==============================] - 3s 67us/step - loss: 357163.8082 - mean_squared_error: 357163.8082\n",
      "Epoch 54/100\n",
      "40827/40827 [==============================] - 3s 66us/step - loss: 357133.7609 - mean_squared_error: 357133.7609\n",
      "Epoch 55/100\n",
      "40827/40827 [==============================] - 3s 69us/step - loss: 357147.8619 - mean_squared_error: 357147.8619\n",
      "Epoch 56/100\n",
      "40827/40827 [==============================] - 3s 68us/step - loss: 357106.6565 - mean_squared_error: 357106.6565\n",
      "Epoch 57/100\n",
      "40827/40827 [==============================] - 3s 68us/step - loss: 357198.8700 - mean_squared_error: 357198.8700\n",
      "Epoch 58/100\n",
      "40827/40827 [==============================] - 3s 66us/step - loss: 357122.3177 - mean_squared_error: 357122.3177\n",
      "Epoch 59/100\n",
      "40827/40827 [==============================] - 3s 66us/step - loss: 357209.0288 - mean_squared_error: 357209.0288\n",
      "Epoch 60/100\n",
      "40827/40827 [==============================] - 3s 66us/step - loss: 357107.5536 - mean_squared_error: 357107.5536\n",
      "Epoch 61/100\n",
      "40827/40827 [==============================] - 3s 65us/step - loss: 357137.0024 - mean_squared_error: 357137.0024\n",
      "Epoch 62/100\n",
      "40827/40827 [==============================] - 3s 66us/step - loss: 357108.1781 - mean_squared_error: 357108.1781\n",
      "Epoch 63/100\n",
      "40827/40827 [==============================] - 3s 65us/step - loss: 357156.2228 - mean_squared_error: 357156.2228\n",
      "Epoch 64/100\n",
      "40827/40827 [==============================] - 3s 65us/step - loss: 357169.7471 - mean_squared_error: 357169.7471\n",
      "Epoch 65/100\n"
     ]
    },
    {
     "name": "stdout",
     "output_type": "stream",
     "text": [
      "40827/40827 [==============================] - 3s 65us/step - loss: 357061.2193 - mean_squared_error: 357061.2193\n",
      "Epoch 66/100\n",
      "40827/40827 [==============================] - 3s 65us/step - loss: 357194.3862 - mean_squared_error: 357194.3862\n",
      "Epoch 67/100\n",
      "40827/40827 [==============================] - 3s 65us/step - loss: 357119.3186 - mean_squared_error: 357119.3186\n",
      "Epoch 68/100\n",
      "40827/40827 [==============================] - 3s 68us/step - loss: 357182.6305 - mean_squared_error: 357182.6305\n",
      "Epoch 69/100\n",
      "40827/40827 [==============================] - 3s 65us/step - loss: 357169.5691 - mean_squared_error: 357169.5691\n",
      "Epoch 70/100\n",
      "40827/40827 [==============================] - 3s 65us/step - loss: 357081.7281 - mean_squared_error: 357081.7281\n",
      "Epoch 71/100\n",
      "40827/40827 [==============================] - 3s 65us/step - loss: 357067.8460 - mean_squared_error: 357067.8460\n",
      "Epoch 72/100\n",
      "40827/40827 [==============================] - 3s 66us/step - loss: 357138.4943 - mean_squared_error: 357138.4943\n",
      "Epoch 73/100\n",
      "40827/40827 [==============================] - 3s 64us/step - loss: 357160.8993 - mean_squared_error: 357160.8993\n",
      "Epoch 74/100\n",
      "40827/40827 [==============================] - 3s 65us/step - loss: 357077.9982 - mean_squared_error: 357077.9982\n",
      "Epoch 75/100\n",
      "40827/40827 [==============================] - 3s 64us/step - loss: 357140.7780 - mean_squared_error: 357140.7780\n",
      "Epoch 76/100\n",
      "40827/40827 [==============================] - 3s 65us/step - loss: 357110.4512 - mean_squared_error: 357110.4512\n",
      "Epoch 77/100\n",
      "40827/40827 [==============================] - 3s 68us/step - loss: 357120.8338 - mean_squared_error: 357120.8338\n",
      "Epoch 78/100\n",
      "40827/40827 [==============================] - 3s 66us/step - loss: 357164.9202 - mean_squared_error: 357164.9202\n",
      "Epoch 79/100\n",
      "40827/40827 [==============================] - 3s 66us/step - loss: 357126.3584 - mean_squared_error: 357126.3584\n",
      "Epoch 80/100\n",
      "40827/40827 [==============================] - 3s 66us/step - loss: 357151.7338 - mean_squared_error: 357151.7338\n",
      "Epoch 81/100\n",
      "40827/40827 [==============================] - 3s 67us/step - loss: 357090.3407 - mean_squared_error: 357090.3407\n",
      "Epoch 82/100\n",
      "40827/40827 [==============================] - 3s 65us/step - loss: 357058.7524 - mean_squared_error: 357058.7524\n",
      "Epoch 83/100\n",
      "40827/40827 [==============================] - 3s 68us/step - loss: 357090.1102 - mean_squared_error: 357090.1102\n",
      "Epoch 84/100\n",
      "40827/40827 [==============================] - 3s 66us/step - loss: 357178.7461 - mean_squared_error: 357178.7461\n",
      "Epoch 85/100\n",
      "40827/40827 [==============================] - 3s 68us/step - loss: 357165.5387 - mean_squared_error: 357165.5387\n",
      "Epoch 86/100\n",
      "40827/40827 [==============================] - 3s 67us/step - loss: 357153.4971 - mean_squared_error: 357153.4971\n",
      "Epoch 87/100\n",
      "40827/40827 [==============================] - 3s 65us/step - loss: 357117.6414 - mean_squared_error: 357117.6414\n",
      "Epoch 88/100\n",
      "40827/40827 [==============================] - 3s 66us/step - loss: 357139.7772 - mean_squared_error: 357139.7772\n",
      "Epoch 89/100\n",
      "40827/40827 [==============================] - 3s 66us/step - loss: 357113.8878 - mean_squared_error: 357113.8878\n",
      "Epoch 90/100\n",
      "40827/40827 [==============================] - 3s 66us/step - loss: 357120.2237 - mean_squared_error: 357120.2237\n",
      "Epoch 91/100\n",
      "40827/40827 [==============================] - 3s 67us/step - loss: 357100.5275 - mean_squared_error: 357100.5275\n",
      "Epoch 92/100\n",
      "40827/40827 [==============================] - 3s 68us/step - loss: 357132.0446 - mean_squared_error: 357132.0446\n",
      "Epoch 93/100\n",
      "40827/40827 [==============================] - 3s 65us/step - loss: 357149.4559 - mean_squared_error: 357149.4559\n",
      "Epoch 94/100\n",
      "40827/40827 [==============================] - 3s 65us/step - loss: 357166.2590 - mean_squared_error: 357166.2590\n",
      "Epoch 95/100\n",
      "40827/40827 [==============================] - 3s 65us/step - loss: 357141.0333 - mean_squared_error: 357141.0333\n",
      "Epoch 96/100\n",
      "40827/40827 [==============================] - 3s 65us/step - loss: 357112.7576 - mean_squared_error: 357112.7576\n",
      "Epoch 97/100\n",
      "40827/40827 [==============================] - 3s 65us/step - loss: 357146.4538 - mean_squared_error: 357146.4538\n",
      "Epoch 98/100\n",
      "40827/40827 [==============================] - 3s 73us/step - loss: 357183.7457 - mean_squared_error: 357183.7457\n",
      "Epoch 99/100\n",
      "40827/40827 [==============================] - 3s 76us/step - loss: 357166.8375 - mean_squared_error: 357166.8375\n",
      "Epoch 100/100\n",
      "40827/40827 [==============================] - 3s 71us/step - loss: 357194.8438 - mean_squared_error: 357194.8438\n"
     ]
    },
    {
     "data": {
      "text/plain": [
       "<keras.callbacks.History at 0x245a1168e80>"
      ]
     },
     "execution_count": 11,
     "metadata": {},
     "output_type": "execute_result"
    }
   ],
   "source": [
    "model_reg.fit(X_train_reg, y_train_reg, epochs = 100, batch_size = 20)"
   ]
  },
  {
   "cell_type": "code",
   "execution_count": 12,
   "metadata": {},
   "outputs": [
    {
     "name": "stdout",
     "output_type": "stream",
     "text": [
      "17498/17498 [==============================] - 0s 23us/step\n"
     ]
    },
    {
     "data": {
      "text/plain": [
       "[426648.17846325296, 426648.17846325296]"
      ]
     },
     "execution_count": 12,
     "metadata": {},
     "output_type": "execute_result"
    }
   ],
   "source": [
    "model_reg.evaluate(X_test_reg, y_test_reg)"
   ]
  },
  {
   "cell_type": "code",
   "execution_count": 14,
   "metadata": {},
   "outputs": [
    {
     "name": "stdout",
     "output_type": "stream",
     "text": [
      "Train score: -0.00\n",
      "Test score: -0.00\n"
     ]
    }
   ],
   "source": [
    "from sklearn.metrics import r2_score, recall_score, precision_score\n",
    "\n",
    "y_train_predict = model_reg.predict(X_train_reg)\n",
    "y_test_predict = model_reg.predict(X_test_reg)\n",
    "\n",
    "print('Train score: {:.2f}'.format(r2_score(y_train_reg, y_train_predict)))\n",
    "print('Test score: {:.2f}'.format(r2_score(y_test_reg, y_test_predict)))"
   ]
  },
  {
   "cell_type": "markdown",
   "metadata": {},
   "source": [
    "## Classification"
   ]
  },
  {
   "cell_type": "code",
   "execution_count": 3,
   "metadata": {},
   "outputs": [],
   "source": [
    "X_cls = df_cls.drop('Buzz', axis = 1)\n",
    "y_cls = df_cls['Buzz']"
   ]
  },
  {
   "cell_type": "code",
   "execution_count": 10,
   "metadata": {},
   "outputs": [],
   "source": [
    "_, sample_data_cls, _, sample_target_cls = train_test_split(X_cls, y_cls, shuffle = True, test_size = 0.1)"
   ]
  },
  {
   "cell_type": "code",
   "execution_count": 11,
   "metadata": {},
   "outputs": [
    {
     "name": "stderr",
     "output_type": "stream",
     "text": [
      "c:\\users\\ravi\\appdata\\local\\programs\\python\\python36\\lib\\site-packages\\sklearn\\preprocessing\\data.py:323: DataConversionWarning: Data with input dtype int64, float64 were all converted to float64 by MinMaxScaler.\n",
      "  return self.partial_fit(X, y)\n"
     ]
    }
   ],
   "source": [
    "sample_train_ex, sample_test_ex, y_train_cls, y_test_cls = train_test_split(sample_data_cls, sample_target_cls, random_state = 0, test_size = 0.3)\n",
    "\n",
    "scaler = MinMaxScaler()\n",
    "X_train_cls = scaler.fit_transform(sample_train_ex)\n",
    "X_test_cls = scaler.transform(sample_test_ex)"
   ]
  },
  {
   "cell_type": "markdown",
   "metadata": {},
   "source": [
    "### Bagging"
   ]
  },
  {
   "cell_type": "markdown",
   "metadata": {},
   "source": [
    "Bagging with Decision Tree Classifier"
   ]
  },
  {
   "cell_type": "code",
   "execution_count": 12,
   "metadata": {},
   "outputs": [
    {
     "data": {
      "text/plain": [
       "BaggingClassifier(base_estimator=DecisionTreeClassifier(class_weight=None, criterion='gini', max_depth=None,\n",
       "            max_features=None, max_leaf_nodes=None,\n",
       "            min_impurity_decrease=0.0, min_impurity_split=None,\n",
       "            min_samples_leaf=1, min_samples_split=2,\n",
       "            min_weight_fraction_leaf=0.0, presort=False, random_state=0,\n",
       "            splitter='best'),\n",
       "         bootstrap=True, bootstrap_features=False, max_features=1.0,\n",
       "         max_samples=5000, n_estimators=500, n_jobs=-1, oob_score=False,\n",
       "         random_state=0, verbose=0, warm_start=False)"
      ]
     },
     "execution_count": 12,
     "metadata": {},
     "output_type": "execute_result"
    }
   ],
   "source": [
    "from sklearn.ensemble import BaggingClassifier\n",
    "from sklearn.tree import DecisionTreeClassifier\n",
    "\n",
    "dt_clf = DecisionTreeClassifier(random_state=0)\n",
    "bag_clf = BaggingClassifier(dt_clf, n_estimators=500, max_samples=5000, bootstrap=True, n_jobs=-1, random_state=0)\n",
    "\n",
    "bag_clf.fit(X_train_cls, y_train_cls)"
   ]
  },
  {
   "cell_type": "code",
   "execution_count": 13,
   "metadata": {},
   "outputs": [
    {
     "name": "stdout",
     "output_type": "stream",
     "text": [
      "Train score: 0.99\n",
      "Test score: 0.96\n"
     ]
    }
   ],
   "source": [
    "print('Train score: {:.2f}'.format(bag_clf.score(X_train_cls, y_train_cls)))\n",
    "print('Test score: {:.2f}'.format(bag_clf.score(X_test_cls, y_test_cls)))"
   ]
  },
  {
   "cell_type": "code",
   "execution_count": 14,
   "metadata": {},
   "outputs": [],
   "source": [
    "y_train_bag = bag_clf.predict(X_train_cls)\n",
    "y_bag = bag_clf.predict(X_test_cls)"
   ]
  },
  {
   "cell_type": "code",
   "execution_count": 15,
   "metadata": {},
   "outputs": [
    {
     "name": "stdout",
     "output_type": "stream",
     "text": [
      "Train roc_auc_score: 0.99\n",
      "Test roc_auc_score: 0.94 \n"
     ]
    }
   ],
   "source": [
    "from sklearn.metrics import roc_auc_score, f1_score\n",
    "print('Train roc_auc_score: %.2f'%roc_auc_score(y_train_bag, y_train_cls))\n",
    "print('Test roc_auc_score: %.2f '%roc_auc_score(y_bag, y_test_cls))"
   ]
  },
  {
   "cell_type": "markdown",
   "metadata": {},
   "source": [
    "Bagging with Logistic Regression"
   ]
  },
  {
   "cell_type": "code",
   "execution_count": 16,
   "metadata": {},
   "outputs": [],
   "source": [
    "from sklearn.linear_model import LogisticRegression\n",
    "logreg_1 = LogisticRegression()"
   ]
  },
  {
   "cell_type": "code",
   "execution_count": 17,
   "metadata": {},
   "outputs": [
    {
     "data": {
      "text/plain": [
       "BaggingClassifier(base_estimator=LogisticRegression(C=1.0, class_weight=None, dual=False, fit_intercept=True,\n",
       "          intercept_scaling=1, max_iter=100, multi_class='warn',\n",
       "          n_jobs=None, penalty='l2', random_state=None, solver='warn',\n",
       "          tol=0.0001, verbose=0, warm_start=False),\n",
       "         bootstrap=True, bootstrap_features=False, max_features=1.0,\n",
       "         max_samples=5000, n_estimators=500, n_jobs=-1, oob_score=False,\n",
       "         random_state=0, verbose=0, warm_start=False)"
      ]
     },
     "execution_count": 17,
     "metadata": {},
     "output_type": "execute_result"
    }
   ],
   "source": [
    "from sklearn.ensemble import BaggingClassifier\n",
    "\n",
    "bag_log_cls = BaggingClassifier(logreg_1, n_estimators=500, max_samples=5000, bootstrap=True, n_jobs=-1, random_state=0)\n",
    "\n",
    "bag_log_cls.fit(X_train_cls, y_train_cls)"
   ]
  },
  {
   "cell_type": "code",
   "execution_count": 18,
   "metadata": {},
   "outputs": [
    {
     "name": "stdout",
     "output_type": "stream",
     "text": [
      "Train score: 0.93\n",
      "Test score: 0.93\n"
     ]
    }
   ],
   "source": [
    "print('Train score: {:.2f}'.format(bag_log_cls.score(X_train_cls, y_train_cls)))\n",
    "print('Test score: {:.2f}'.format(bag_log_cls.score(X_test_cls, y_test_cls)))"
   ]
  },
  {
   "cell_type": "code",
   "execution_count": 19,
   "metadata": {},
   "outputs": [],
   "source": [
    "y_logreg_train_predict = bag_log_cls.predict(X_train_cls)\n",
    "y_logreg_predict = bag_log_cls.predict(X_test_cls)"
   ]
  },
  {
   "cell_type": "code",
   "execution_count": 20,
   "metadata": {},
   "outputs": [
    {
     "name": "stdout",
     "output_type": "stream",
     "text": [
      "Train roc_auc_score: 0.95\n",
      "Test roc_auc_score: 0.95 \n"
     ]
    }
   ],
   "source": [
    "from sklearn.metrics import roc_auc_score, f1_score\n",
    "print('Train roc_auc_score: %.2f'%roc_auc_score(y_logreg_train_predict, y_train_cls))\n",
    "print('Test roc_auc_score: %.2f '%roc_auc_score(y_logreg_predict, y_test_cls))"
   ]
  },
  {
   "cell_type": "markdown",
   "metadata": {},
   "source": [
    "### Pasting"
   ]
  },
  {
   "cell_type": "markdown",
   "metadata": {},
   "source": [
    "Pasting with KNN Classifier"
   ]
  },
  {
   "cell_type": "code",
   "execution_count": 21,
   "metadata": {},
   "outputs": [],
   "source": [
    "from sklearn.neighbors import KNeighborsClassifier\n",
    "\n",
    "knn_cls_1 = KNeighborsClassifier(n_neighbors = 20)"
   ]
  },
  {
   "cell_type": "markdown",
   "metadata": {},
   "source": [
    "Best parameters of KNN Classifier from Project 2 are 20"
   ]
  },
  {
   "cell_type": "code",
   "execution_count": 22,
   "metadata": {},
   "outputs": [],
   "source": [
    "bag_knn_cls = BaggingClassifier(knn_cls_1, n_estimators=200, max_samples=1000, bootstrap=False, n_jobs=-1, random_state=0)"
   ]
  },
  {
   "cell_type": "code",
   "execution_count": 23,
   "metadata": {},
   "outputs": [
    {
     "data": {
      "text/plain": [
       "BaggingClassifier(base_estimator=KNeighborsClassifier(algorithm='auto', leaf_size=30, metric='minkowski',\n",
       "           metric_params=None, n_jobs=None, n_neighbors=20, p=2,\n",
       "           weights='uniform'),\n",
       "         bootstrap=False, bootstrap_features=False, max_features=1.0,\n",
       "         max_samples=1000, n_estimators=200, n_jobs=-1, oob_score=False,\n",
       "         random_state=0, verbose=0, warm_start=False)"
      ]
     },
     "execution_count": 23,
     "metadata": {},
     "output_type": "execute_result"
    }
   ],
   "source": [
    "bag_knn_cls.fit(X_train_cls, y_train_cls)"
   ]
  },
  {
   "cell_type": "code",
   "execution_count": 24,
   "metadata": {
    "scrolled": true
   },
   "outputs": [
    {
     "name": "stdout",
     "output_type": "stream",
     "text": [
      "Train score: 0.95\n",
      "Test score: 0.95\n"
     ]
    }
   ],
   "source": [
    "print('Train score: {:.2f}'.format(bag_knn_cls.score(X_train_cls, y_train_cls)))\n",
    "print('Test score: {:.2f}'.format(bag_knn_cls.score(X_test_cls, y_test_cls)))"
   ]
  },
  {
   "cell_type": "markdown",
   "metadata": {},
   "source": [
    "Pasting with Linear SVC"
   ]
  },
  {
   "cell_type": "code",
   "execution_count": 27,
   "metadata": {},
   "outputs": [],
   "source": [
    "from sklearn.svm import LinearSVC"
   ]
  },
  {
   "cell_type": "code",
   "execution_count": 28,
   "metadata": {},
   "outputs": [],
   "source": [
    "svc_lin_1 = LinearSVC(C=10)"
   ]
  },
  {
   "cell_type": "code",
   "execution_count": 29,
   "metadata": {},
   "outputs": [],
   "source": [
    "pst_linSVC= BaggingClassifier(svc_lin_1, n_estimators=200, max_samples=1000, bootstrap=False, n_jobs=-1, random_state=0)"
   ]
  },
  {
   "cell_type": "code",
   "execution_count": 30,
   "metadata": {},
   "outputs": [
    {
     "data": {
      "text/plain": [
       "BaggingClassifier(base_estimator=LinearSVC(C=10, class_weight=None, dual=True, fit_intercept=True,\n",
       "     intercept_scaling=1, loss='squared_hinge', max_iter=1000,\n",
       "     multi_class='ovr', penalty='l2', random_state=None, tol=0.0001,\n",
       "     verbose=0),\n",
       "         bootstrap=False, bootstrap_features=False, max_features=1.0,\n",
       "         max_samples=1000, n_estimators=200, n_jobs=-1, oob_score=False,\n",
       "         random_state=0, verbose=0, warm_start=False)"
      ]
     },
     "execution_count": 30,
     "metadata": {},
     "output_type": "execute_result"
    }
   ],
   "source": [
    "pst_linSVC.fit(X_train_cls, y_train_cls)"
   ]
  },
  {
   "cell_type": "code",
   "execution_count": 31,
   "metadata": {},
   "outputs": [
    {
     "name": "stdout",
     "output_type": "stream",
     "text": [
      "Train score: 0.96\n",
      "Test score: 0.96\n"
     ]
    }
   ],
   "source": [
    "print('Train score: {:.2f}'.format(pst_linSVC.score(X_train_cls, y_train_cls)))\n",
    "print('Test score: {:.2f}'.format(pst_linSVC.score(X_test_cls, y_test_cls)))"
   ]
  },
  {
   "cell_type": "code",
   "execution_count": 32,
   "metadata": {},
   "outputs": [],
   "source": [
    "y_linSVC_train_predict = pst_linSVC.predict(X_train_cls)\n",
    "y_linSVC_predict = pst_linSVC.predict(X_test_cls)"
   ]
  },
  {
   "cell_type": "code",
   "execution_count": 33,
   "metadata": {},
   "outputs": [
    {
     "name": "stdout",
     "output_type": "stream",
     "text": [
      "Train roc_auc_score: 0.96\n",
      "Test roc_auc_score: 0.95 \n"
     ]
    }
   ],
   "source": [
    "print('Train roc_auc_score: %.2f'%roc_auc_score(y_linSVC_train_predict, y_train_cls))\n",
    "print('Test roc_auc_score: %.2f '%roc_auc_score(y_linSVC_predict, y_test_cls))"
   ]
  },
  {
   "cell_type": "markdown",
   "metadata": {},
   "source": [
    "### AdaBoost"
   ]
  },
  {
   "cell_type": "code",
   "execution_count": 34,
   "metadata": {},
   "outputs": [],
   "source": [
    "from sklearn.ensemble import AdaBoostClassifier"
   ]
  },
  {
   "cell_type": "markdown",
   "metadata": {},
   "source": [
    "AdaBoost with Decision Tree Classifier"
   ]
  },
  {
   "cell_type": "code",
   "execution_count": 35,
   "metadata": {},
   "outputs": [],
   "source": [
    "from sklearn.tree import DecisionTreeClassifier\n",
    "\n",
    "dt_clf = DecisionTreeClassifier(random_state=0)"
   ]
  },
  {
   "cell_type": "code",
   "execution_count": 36,
   "metadata": {
    "scrolled": true
   },
   "outputs": [
    {
     "data": {
      "text/plain": [
       "AdaBoostClassifier(algorithm='SAMME',\n",
       "          base_estimator=DecisionTreeClassifier(class_weight=None, criterion='gini', max_depth=None,\n",
       "            max_features=None, max_leaf_nodes=None,\n",
       "            min_impurity_decrease=0.0, min_impurity_split=None,\n",
       "            min_samples_leaf=1, min_samples_split=2,\n",
       "            min_weight_fraction_leaf=0.0, presort=False, random_state=0,\n",
       "            splitter='best'),\n",
       "          learning_rate=0.5, n_estimators=200, random_state=0)"
      ]
     },
     "execution_count": 36,
     "metadata": {},
     "output_type": "execute_result"
    }
   ],
   "source": [
    "ada_dt = AdaBoostClassifier(dt_clf, n_estimators=200, algorithm=\"SAMME\", learning_rate=0.5, random_state=0)\n",
    "ada_dt.fit(X_train_cls, y_train_cls)"
   ]
  },
  {
   "cell_type": "code",
   "execution_count": 37,
   "metadata": {},
   "outputs": [
    {
     "name": "stdout",
     "output_type": "stream",
     "text": [
      "Train score: 1.00\n",
      "Test score: 0.95\n"
     ]
    }
   ],
   "source": [
    "print('Train score: {:.2f}'.format(ada_dt.score(X_train_cls, y_train_cls)))\n",
    "print('Test score: {:.2f}'.format(ada_dt.score(X_test_cls, y_test_cls)))"
   ]
  },
  {
   "cell_type": "code",
   "execution_count": 38,
   "metadata": {},
   "outputs": [],
   "source": [
    "y_adadt_train_predict = ada_dt.predict(X_train_cls)\n",
    "y_adadt_predict = ada_dt.predict(X_test_cls)"
   ]
  },
  {
   "cell_type": "code",
   "execution_count": 39,
   "metadata": {},
   "outputs": [
    {
     "name": "stdout",
     "output_type": "stream",
     "text": [
      "Train roc_auc_score: 1.00\n",
      "Test roc_auc_score: 0.92 \n"
     ]
    }
   ],
   "source": [
    "print('Train roc_auc_score: %.2f'%roc_auc_score(y_adadt_train_predict, y_train_cls))\n",
    "print('Test roc_auc_score: %.2f '%roc_auc_score(y_adadt_predict, y_test_cls))"
   ]
  },
  {
   "cell_type": "markdown",
   "metadata": {},
   "source": [
    "AdaBoost with Logistic Regression"
   ]
  },
  {
   "cell_type": "code",
   "execution_count": 40,
   "metadata": {},
   "outputs": [],
   "source": [
    "from sklearn.linear_model import LogisticRegression\n",
    "logreg_2 = LogisticRegression()"
   ]
  },
  {
   "cell_type": "code",
   "execution_count": 41,
   "metadata": {
    "scrolled": true
   },
   "outputs": [
    {
     "name": "stderr",
     "output_type": "stream",
     "text": [
      "c:\\users\\ravi\\appdata\\local\\programs\\python\\python36\\lib\\site-packages\\sklearn\\linear_model\\logistic.py:433: FutureWarning: Default solver will be changed to 'lbfgs' in 0.22. Specify a solver to silence this warning.\n",
      "  FutureWarning)\n",
      "c:\\users\\ravi\\appdata\\local\\programs\\python\\python36\\lib\\site-packages\\sklearn\\linear_model\\logistic.py:433: FutureWarning: Default solver will be changed to 'lbfgs' in 0.22. Specify a solver to silence this warning.\n",
      "  FutureWarning)\n",
      "c:\\users\\ravi\\appdata\\local\\programs\\python\\python36\\lib\\site-packages\\sklearn\\linear_model\\logistic.py:433: FutureWarning: Default solver will be changed to 'lbfgs' in 0.22. Specify a solver to silence this warning.\n",
      "  FutureWarning)\n",
      "c:\\users\\ravi\\appdata\\local\\programs\\python\\python36\\lib\\site-packages\\sklearn\\linear_model\\logistic.py:433: FutureWarning: Default solver will be changed to 'lbfgs' in 0.22. Specify a solver to silence this warning.\n",
      "  FutureWarning)\n",
      "c:\\users\\ravi\\appdata\\local\\programs\\python\\python36\\lib\\site-packages\\sklearn\\linear_model\\logistic.py:433: FutureWarning: Default solver will be changed to 'lbfgs' in 0.22. Specify a solver to silence this warning.\n",
      "  FutureWarning)\n",
      "c:\\users\\ravi\\appdata\\local\\programs\\python\\python36\\lib\\site-packages\\sklearn\\linear_model\\logistic.py:433: FutureWarning: Default solver will be changed to 'lbfgs' in 0.22. Specify a solver to silence this warning.\n",
      "  FutureWarning)\n",
      "c:\\users\\ravi\\appdata\\local\\programs\\python\\python36\\lib\\site-packages\\sklearn\\linear_model\\logistic.py:433: FutureWarning: Default solver will be changed to 'lbfgs' in 0.22. Specify a solver to silence this warning.\n",
      "  FutureWarning)\n",
      "c:\\users\\ravi\\appdata\\local\\programs\\python\\python36\\lib\\site-packages\\sklearn\\linear_model\\logistic.py:433: FutureWarning: Default solver will be changed to 'lbfgs' in 0.22. Specify a solver to silence this warning.\n",
      "  FutureWarning)\n",
      "c:\\users\\ravi\\appdata\\local\\programs\\python\\python36\\lib\\site-packages\\sklearn\\linear_model\\logistic.py:433: FutureWarning: Default solver will be changed to 'lbfgs' in 0.22. Specify a solver to silence this warning.\n",
      "  FutureWarning)\n",
      "c:\\users\\ravi\\appdata\\local\\programs\\python\\python36\\lib\\site-packages\\sklearn\\linear_model\\logistic.py:433: FutureWarning: Default solver will be changed to 'lbfgs' in 0.22. Specify a solver to silence this warning.\n",
      "  FutureWarning)\n",
      "c:\\users\\ravi\\appdata\\local\\programs\\python\\python36\\lib\\site-packages\\sklearn\\linear_model\\logistic.py:433: FutureWarning: Default solver will be changed to 'lbfgs' in 0.22. Specify a solver to silence this warning.\n",
      "  FutureWarning)\n",
      "c:\\users\\ravi\\appdata\\local\\programs\\python\\python36\\lib\\site-packages\\sklearn\\linear_model\\logistic.py:433: FutureWarning: Default solver will be changed to 'lbfgs' in 0.22. Specify a solver to silence this warning.\n",
      "  FutureWarning)\n",
      "c:\\users\\ravi\\appdata\\local\\programs\\python\\python36\\lib\\site-packages\\sklearn\\linear_model\\logistic.py:433: FutureWarning: Default solver will be changed to 'lbfgs' in 0.22. Specify a solver to silence this warning.\n",
      "  FutureWarning)\n",
      "c:\\users\\ravi\\appdata\\local\\programs\\python\\python36\\lib\\site-packages\\sklearn\\linear_model\\logistic.py:433: FutureWarning: Default solver will be changed to 'lbfgs' in 0.22. Specify a solver to silence this warning.\n",
      "  FutureWarning)\n",
      "c:\\users\\ravi\\appdata\\local\\programs\\python\\python36\\lib\\site-packages\\sklearn\\linear_model\\logistic.py:433: FutureWarning: Default solver will be changed to 'lbfgs' in 0.22. Specify a solver to silence this warning.\n",
      "  FutureWarning)\n",
      "c:\\users\\ravi\\appdata\\local\\programs\\python\\python36\\lib\\site-packages\\sklearn\\linear_model\\logistic.py:433: FutureWarning: Default solver will be changed to 'lbfgs' in 0.22. Specify a solver to silence this warning.\n",
      "  FutureWarning)\n",
      "c:\\users\\ravi\\appdata\\local\\programs\\python\\python36\\lib\\site-packages\\sklearn\\linear_model\\logistic.py:433: FutureWarning: Default solver will be changed to 'lbfgs' in 0.22. Specify a solver to silence this warning.\n",
      "  FutureWarning)\n",
      "c:\\users\\ravi\\appdata\\local\\programs\\python\\python36\\lib\\site-packages\\sklearn\\linear_model\\logistic.py:433: FutureWarning: Default solver will be changed to 'lbfgs' in 0.22. Specify a solver to silence this warning.\n",
      "  FutureWarning)\n",
      "c:\\users\\ravi\\appdata\\local\\programs\\python\\python36\\lib\\site-packages\\sklearn\\linear_model\\logistic.py:433: FutureWarning: Default solver will be changed to 'lbfgs' in 0.22. Specify a solver to silence this warning.\n",
      "  FutureWarning)\n",
      "c:\\users\\ravi\\appdata\\local\\programs\\python\\python36\\lib\\site-packages\\sklearn\\linear_model\\logistic.py:433: FutureWarning: Default solver will be changed to 'lbfgs' in 0.22. Specify a solver to silence this warning.\n",
      "  FutureWarning)\n",
      "c:\\users\\ravi\\appdata\\local\\programs\\python\\python36\\lib\\site-packages\\sklearn\\linear_model\\logistic.py:433: FutureWarning: Default solver will be changed to 'lbfgs' in 0.22. Specify a solver to silence this warning.\n",
      "  FutureWarning)\n",
      "c:\\users\\ravi\\appdata\\local\\programs\\python\\python36\\lib\\site-packages\\sklearn\\linear_model\\logistic.py:433: FutureWarning: Default solver will be changed to 'lbfgs' in 0.22. Specify a solver to silence this warning.\n",
      "  FutureWarning)\n",
      "c:\\users\\ravi\\appdata\\local\\programs\\python\\python36\\lib\\site-packages\\sklearn\\linear_model\\logistic.py:433: FutureWarning: Default solver will be changed to 'lbfgs' in 0.22. Specify a solver to silence this warning.\n",
      "  FutureWarning)\n",
      "c:\\users\\ravi\\appdata\\local\\programs\\python\\python36\\lib\\site-packages\\sklearn\\linear_model\\logistic.py:433: FutureWarning: Default solver will be changed to 'lbfgs' in 0.22. Specify a solver to silence this warning.\n",
      "  FutureWarning)\n",
      "c:\\users\\ravi\\appdata\\local\\programs\\python\\python36\\lib\\site-packages\\sklearn\\linear_model\\logistic.py:433: FutureWarning: Default solver will be changed to 'lbfgs' in 0.22. Specify a solver to silence this warning.\n",
      "  FutureWarning)\n",
      "c:\\users\\ravi\\appdata\\local\\programs\\python\\python36\\lib\\site-packages\\sklearn\\linear_model\\logistic.py:433: FutureWarning: Default solver will be changed to 'lbfgs' in 0.22. Specify a solver to silence this warning.\n",
      "  FutureWarning)\n",
      "c:\\users\\ravi\\appdata\\local\\programs\\python\\python36\\lib\\site-packages\\sklearn\\linear_model\\logistic.py:433: FutureWarning: Default solver will be changed to 'lbfgs' in 0.22. Specify a solver to silence this warning.\n",
      "  FutureWarning)\n",
      "c:\\users\\ravi\\appdata\\local\\programs\\python\\python36\\lib\\site-packages\\sklearn\\linear_model\\logistic.py:433: FutureWarning: Default solver will be changed to 'lbfgs' in 0.22. Specify a solver to silence this warning.\n",
      "  FutureWarning)\n",
      "c:\\users\\ravi\\appdata\\local\\programs\\python\\python36\\lib\\site-packages\\sklearn\\linear_model\\logistic.py:433: FutureWarning: Default solver will be changed to 'lbfgs' in 0.22. Specify a solver to silence this warning.\n",
      "  FutureWarning)\n",
      "c:\\users\\ravi\\appdata\\local\\programs\\python\\python36\\lib\\site-packages\\sklearn\\linear_model\\logistic.py:433: FutureWarning: Default solver will be changed to 'lbfgs' in 0.22. Specify a solver to silence this warning.\n",
      "  FutureWarning)\n",
      "c:\\users\\ravi\\appdata\\local\\programs\\python\\python36\\lib\\site-packages\\sklearn\\linear_model\\logistic.py:433: FutureWarning: Default solver will be changed to 'lbfgs' in 0.22. Specify a solver to silence this warning.\n",
      "  FutureWarning)\n",
      "c:\\users\\ravi\\appdata\\local\\programs\\python\\python36\\lib\\site-packages\\sklearn\\linear_model\\logistic.py:433: FutureWarning: Default solver will be changed to 'lbfgs' in 0.22. Specify a solver to silence this warning.\n",
      "  FutureWarning)\n",
      "c:\\users\\ravi\\appdata\\local\\programs\\python\\python36\\lib\\site-packages\\sklearn\\linear_model\\logistic.py:433: FutureWarning: Default solver will be changed to 'lbfgs' in 0.22. Specify a solver to silence this warning.\n",
      "  FutureWarning)\n",
      "c:\\users\\ravi\\appdata\\local\\programs\\python\\python36\\lib\\site-packages\\sklearn\\linear_model\\logistic.py:433: FutureWarning: Default solver will be changed to 'lbfgs' in 0.22. Specify a solver to silence this warning.\n",
      "  FutureWarning)\n",
      "c:\\users\\ravi\\appdata\\local\\programs\\python\\python36\\lib\\site-packages\\sklearn\\linear_model\\logistic.py:433: FutureWarning: Default solver will be changed to 'lbfgs' in 0.22. Specify a solver to silence this warning.\n",
      "  FutureWarning)\n",
      "c:\\users\\ravi\\appdata\\local\\programs\\python\\python36\\lib\\site-packages\\sklearn\\linear_model\\logistic.py:433: FutureWarning: Default solver will be changed to 'lbfgs' in 0.22. Specify a solver to silence this warning.\n",
      "  FutureWarning)\n",
      "c:\\users\\ravi\\appdata\\local\\programs\\python\\python36\\lib\\site-packages\\sklearn\\linear_model\\logistic.py:433: FutureWarning: Default solver will be changed to 'lbfgs' in 0.22. Specify a solver to silence this warning.\n",
      "  FutureWarning)\n",
      "c:\\users\\ravi\\appdata\\local\\programs\\python\\python36\\lib\\site-packages\\sklearn\\linear_model\\logistic.py:433: FutureWarning: Default solver will be changed to 'lbfgs' in 0.22. Specify a solver to silence this warning.\n",
      "  FutureWarning)\n",
      "c:\\users\\ravi\\appdata\\local\\programs\\python\\python36\\lib\\site-packages\\sklearn\\linear_model\\logistic.py:433: FutureWarning: Default solver will be changed to 'lbfgs' in 0.22. Specify a solver to silence this warning.\n",
      "  FutureWarning)\n"
     ]
    },
    {
     "name": "stderr",
     "output_type": "stream",
     "text": [
      "c:\\users\\ravi\\appdata\\local\\programs\\python\\python36\\lib\\site-packages\\sklearn\\linear_model\\logistic.py:433: FutureWarning: Default solver will be changed to 'lbfgs' in 0.22. Specify a solver to silence this warning.\n",
      "  FutureWarning)\n",
      "c:\\users\\ravi\\appdata\\local\\programs\\python\\python36\\lib\\site-packages\\sklearn\\linear_model\\logistic.py:433: FutureWarning: Default solver will be changed to 'lbfgs' in 0.22. Specify a solver to silence this warning.\n",
      "  FutureWarning)\n",
      "c:\\users\\ravi\\appdata\\local\\programs\\python\\python36\\lib\\site-packages\\sklearn\\linear_model\\logistic.py:433: FutureWarning: Default solver will be changed to 'lbfgs' in 0.22. Specify a solver to silence this warning.\n",
      "  FutureWarning)\n",
      "c:\\users\\ravi\\appdata\\local\\programs\\python\\python36\\lib\\site-packages\\sklearn\\linear_model\\logistic.py:433: FutureWarning: Default solver will be changed to 'lbfgs' in 0.22. Specify a solver to silence this warning.\n",
      "  FutureWarning)\n",
      "c:\\users\\ravi\\appdata\\local\\programs\\python\\python36\\lib\\site-packages\\sklearn\\linear_model\\logistic.py:433: FutureWarning: Default solver will be changed to 'lbfgs' in 0.22. Specify a solver to silence this warning.\n",
      "  FutureWarning)\n",
      "c:\\users\\ravi\\appdata\\local\\programs\\python\\python36\\lib\\site-packages\\sklearn\\linear_model\\logistic.py:433: FutureWarning: Default solver will be changed to 'lbfgs' in 0.22. Specify a solver to silence this warning.\n",
      "  FutureWarning)\n",
      "c:\\users\\ravi\\appdata\\local\\programs\\python\\python36\\lib\\site-packages\\sklearn\\linear_model\\logistic.py:433: FutureWarning: Default solver will be changed to 'lbfgs' in 0.22. Specify a solver to silence this warning.\n",
      "  FutureWarning)\n",
      "c:\\users\\ravi\\appdata\\local\\programs\\python\\python36\\lib\\site-packages\\sklearn\\linear_model\\logistic.py:433: FutureWarning: Default solver will be changed to 'lbfgs' in 0.22. Specify a solver to silence this warning.\n",
      "  FutureWarning)\n",
      "c:\\users\\ravi\\appdata\\local\\programs\\python\\python36\\lib\\site-packages\\sklearn\\linear_model\\logistic.py:433: FutureWarning: Default solver will be changed to 'lbfgs' in 0.22. Specify a solver to silence this warning.\n",
      "  FutureWarning)\n",
      "c:\\users\\ravi\\appdata\\local\\programs\\python\\python36\\lib\\site-packages\\sklearn\\linear_model\\logistic.py:433: FutureWarning: Default solver will be changed to 'lbfgs' in 0.22. Specify a solver to silence this warning.\n",
      "  FutureWarning)\n",
      "c:\\users\\ravi\\appdata\\local\\programs\\python\\python36\\lib\\site-packages\\sklearn\\linear_model\\logistic.py:433: FutureWarning: Default solver will be changed to 'lbfgs' in 0.22. Specify a solver to silence this warning.\n",
      "  FutureWarning)\n",
      "c:\\users\\ravi\\appdata\\local\\programs\\python\\python36\\lib\\site-packages\\sklearn\\linear_model\\logistic.py:433: FutureWarning: Default solver will be changed to 'lbfgs' in 0.22. Specify a solver to silence this warning.\n",
      "  FutureWarning)\n",
      "c:\\users\\ravi\\appdata\\local\\programs\\python\\python36\\lib\\site-packages\\sklearn\\linear_model\\logistic.py:433: FutureWarning: Default solver will be changed to 'lbfgs' in 0.22. Specify a solver to silence this warning.\n",
      "  FutureWarning)\n",
      "c:\\users\\ravi\\appdata\\local\\programs\\python\\python36\\lib\\site-packages\\sklearn\\linear_model\\logistic.py:433: FutureWarning: Default solver will be changed to 'lbfgs' in 0.22. Specify a solver to silence this warning.\n",
      "  FutureWarning)\n",
      "c:\\users\\ravi\\appdata\\local\\programs\\python\\python36\\lib\\site-packages\\sklearn\\linear_model\\logistic.py:433: FutureWarning: Default solver will be changed to 'lbfgs' in 0.22. Specify a solver to silence this warning.\n",
      "  FutureWarning)\n",
      "c:\\users\\ravi\\appdata\\local\\programs\\python\\python36\\lib\\site-packages\\sklearn\\linear_model\\logistic.py:433: FutureWarning: Default solver will be changed to 'lbfgs' in 0.22. Specify a solver to silence this warning.\n",
      "  FutureWarning)\n",
      "c:\\users\\ravi\\appdata\\local\\programs\\python\\python36\\lib\\site-packages\\sklearn\\linear_model\\logistic.py:433: FutureWarning: Default solver will be changed to 'lbfgs' in 0.22. Specify a solver to silence this warning.\n",
      "  FutureWarning)\n",
      "c:\\users\\ravi\\appdata\\local\\programs\\python\\python36\\lib\\site-packages\\sklearn\\linear_model\\logistic.py:433: FutureWarning: Default solver will be changed to 'lbfgs' in 0.22. Specify a solver to silence this warning.\n",
      "  FutureWarning)\n",
      "c:\\users\\ravi\\appdata\\local\\programs\\python\\python36\\lib\\site-packages\\sklearn\\linear_model\\logistic.py:433: FutureWarning: Default solver will be changed to 'lbfgs' in 0.22. Specify a solver to silence this warning.\n",
      "  FutureWarning)\n",
      "c:\\users\\ravi\\appdata\\local\\programs\\python\\python36\\lib\\site-packages\\sklearn\\linear_model\\logistic.py:433: FutureWarning: Default solver will be changed to 'lbfgs' in 0.22. Specify a solver to silence this warning.\n",
      "  FutureWarning)\n",
      "c:\\users\\ravi\\appdata\\local\\programs\\python\\python36\\lib\\site-packages\\sklearn\\linear_model\\logistic.py:433: FutureWarning: Default solver will be changed to 'lbfgs' in 0.22. Specify a solver to silence this warning.\n",
      "  FutureWarning)\n",
      "c:\\users\\ravi\\appdata\\local\\programs\\python\\python36\\lib\\site-packages\\sklearn\\linear_model\\logistic.py:433: FutureWarning: Default solver will be changed to 'lbfgs' in 0.22. Specify a solver to silence this warning.\n",
      "  FutureWarning)\n",
      "c:\\users\\ravi\\appdata\\local\\programs\\python\\python36\\lib\\site-packages\\sklearn\\linear_model\\logistic.py:433: FutureWarning: Default solver will be changed to 'lbfgs' in 0.22. Specify a solver to silence this warning.\n",
      "  FutureWarning)\n",
      "c:\\users\\ravi\\appdata\\local\\programs\\python\\python36\\lib\\site-packages\\sklearn\\linear_model\\logistic.py:433: FutureWarning: Default solver will be changed to 'lbfgs' in 0.22. Specify a solver to silence this warning.\n",
      "  FutureWarning)\n",
      "c:\\users\\ravi\\appdata\\local\\programs\\python\\python36\\lib\\site-packages\\sklearn\\linear_model\\logistic.py:433: FutureWarning: Default solver will be changed to 'lbfgs' in 0.22. Specify a solver to silence this warning.\n",
      "  FutureWarning)\n",
      "c:\\users\\ravi\\appdata\\local\\programs\\python\\python36\\lib\\site-packages\\sklearn\\linear_model\\logistic.py:433: FutureWarning: Default solver will be changed to 'lbfgs' in 0.22. Specify a solver to silence this warning.\n",
      "  FutureWarning)\n",
      "c:\\users\\ravi\\appdata\\local\\programs\\python\\python36\\lib\\site-packages\\sklearn\\linear_model\\logistic.py:433: FutureWarning: Default solver will be changed to 'lbfgs' in 0.22. Specify a solver to silence this warning.\n",
      "  FutureWarning)\n",
      "c:\\users\\ravi\\appdata\\local\\programs\\python\\python36\\lib\\site-packages\\sklearn\\linear_model\\logistic.py:433: FutureWarning: Default solver will be changed to 'lbfgs' in 0.22. Specify a solver to silence this warning.\n",
      "  FutureWarning)\n",
      "c:\\users\\ravi\\appdata\\local\\programs\\python\\python36\\lib\\site-packages\\sklearn\\linear_model\\logistic.py:433: FutureWarning: Default solver will be changed to 'lbfgs' in 0.22. Specify a solver to silence this warning.\n",
      "  FutureWarning)\n",
      "c:\\users\\ravi\\appdata\\local\\programs\\python\\python36\\lib\\site-packages\\sklearn\\linear_model\\logistic.py:433: FutureWarning: Default solver will be changed to 'lbfgs' in 0.22. Specify a solver to silence this warning.\n",
      "  FutureWarning)\n",
      "c:\\users\\ravi\\appdata\\local\\programs\\python\\python36\\lib\\site-packages\\sklearn\\linear_model\\logistic.py:433: FutureWarning: Default solver will be changed to 'lbfgs' in 0.22. Specify a solver to silence this warning.\n",
      "  FutureWarning)\n",
      "c:\\users\\ravi\\appdata\\local\\programs\\python\\python36\\lib\\site-packages\\sklearn\\linear_model\\logistic.py:433: FutureWarning: Default solver will be changed to 'lbfgs' in 0.22. Specify a solver to silence this warning.\n",
      "  FutureWarning)\n",
      "c:\\users\\ravi\\appdata\\local\\programs\\python\\python36\\lib\\site-packages\\sklearn\\linear_model\\logistic.py:433: FutureWarning: Default solver will be changed to 'lbfgs' in 0.22. Specify a solver to silence this warning.\n",
      "  FutureWarning)\n",
      "c:\\users\\ravi\\appdata\\local\\programs\\python\\python36\\lib\\site-packages\\sklearn\\linear_model\\logistic.py:433: FutureWarning: Default solver will be changed to 'lbfgs' in 0.22. Specify a solver to silence this warning.\n",
      "  FutureWarning)\n",
      "c:\\users\\ravi\\appdata\\local\\programs\\python\\python36\\lib\\site-packages\\sklearn\\linear_model\\logistic.py:433: FutureWarning: Default solver will be changed to 'lbfgs' in 0.22. Specify a solver to silence this warning.\n",
      "  FutureWarning)\n",
      "c:\\users\\ravi\\appdata\\local\\programs\\python\\python36\\lib\\site-packages\\sklearn\\linear_model\\logistic.py:433: FutureWarning: Default solver will be changed to 'lbfgs' in 0.22. Specify a solver to silence this warning.\n",
      "  FutureWarning)\n",
      "c:\\users\\ravi\\appdata\\local\\programs\\python\\python36\\lib\\site-packages\\sklearn\\linear_model\\logistic.py:433: FutureWarning: Default solver will be changed to 'lbfgs' in 0.22. Specify a solver to silence this warning.\n",
      "  FutureWarning)\n",
      "c:\\users\\ravi\\appdata\\local\\programs\\python\\python36\\lib\\site-packages\\sklearn\\linear_model\\logistic.py:433: FutureWarning: Default solver will be changed to 'lbfgs' in 0.22. Specify a solver to silence this warning.\n",
      "  FutureWarning)\n"
     ]
    },
    {
     "name": "stderr",
     "output_type": "stream",
     "text": [
      "c:\\users\\ravi\\appdata\\local\\programs\\python\\python36\\lib\\site-packages\\sklearn\\linear_model\\logistic.py:433: FutureWarning: Default solver will be changed to 'lbfgs' in 0.22. Specify a solver to silence this warning.\n",
      "  FutureWarning)\n",
      "c:\\users\\ravi\\appdata\\local\\programs\\python\\python36\\lib\\site-packages\\sklearn\\linear_model\\logistic.py:433: FutureWarning: Default solver will be changed to 'lbfgs' in 0.22. Specify a solver to silence this warning.\n",
      "  FutureWarning)\n",
      "c:\\users\\ravi\\appdata\\local\\programs\\python\\python36\\lib\\site-packages\\sklearn\\linear_model\\logistic.py:433: FutureWarning: Default solver will be changed to 'lbfgs' in 0.22. Specify a solver to silence this warning.\n",
      "  FutureWarning)\n",
      "c:\\users\\ravi\\appdata\\local\\programs\\python\\python36\\lib\\site-packages\\sklearn\\linear_model\\logistic.py:433: FutureWarning: Default solver will be changed to 'lbfgs' in 0.22. Specify a solver to silence this warning.\n",
      "  FutureWarning)\n",
      "c:\\users\\ravi\\appdata\\local\\programs\\python\\python36\\lib\\site-packages\\sklearn\\linear_model\\logistic.py:433: FutureWarning: Default solver will be changed to 'lbfgs' in 0.22. Specify a solver to silence this warning.\n",
      "  FutureWarning)\n",
      "c:\\users\\ravi\\appdata\\local\\programs\\python\\python36\\lib\\site-packages\\sklearn\\linear_model\\logistic.py:433: FutureWarning: Default solver will be changed to 'lbfgs' in 0.22. Specify a solver to silence this warning.\n",
      "  FutureWarning)\n",
      "c:\\users\\ravi\\appdata\\local\\programs\\python\\python36\\lib\\site-packages\\sklearn\\linear_model\\logistic.py:433: FutureWarning: Default solver will be changed to 'lbfgs' in 0.22. Specify a solver to silence this warning.\n",
      "  FutureWarning)\n",
      "c:\\users\\ravi\\appdata\\local\\programs\\python\\python36\\lib\\site-packages\\sklearn\\linear_model\\logistic.py:433: FutureWarning: Default solver will be changed to 'lbfgs' in 0.22. Specify a solver to silence this warning.\n",
      "  FutureWarning)\n",
      "c:\\users\\ravi\\appdata\\local\\programs\\python\\python36\\lib\\site-packages\\sklearn\\linear_model\\logistic.py:433: FutureWarning: Default solver will be changed to 'lbfgs' in 0.22. Specify a solver to silence this warning.\n",
      "  FutureWarning)\n",
      "c:\\users\\ravi\\appdata\\local\\programs\\python\\python36\\lib\\site-packages\\sklearn\\linear_model\\logistic.py:433: FutureWarning: Default solver will be changed to 'lbfgs' in 0.22. Specify a solver to silence this warning.\n",
      "  FutureWarning)\n",
      "c:\\users\\ravi\\appdata\\local\\programs\\python\\python36\\lib\\site-packages\\sklearn\\linear_model\\logistic.py:433: FutureWarning: Default solver will be changed to 'lbfgs' in 0.22. Specify a solver to silence this warning.\n",
      "  FutureWarning)\n",
      "c:\\users\\ravi\\appdata\\local\\programs\\python\\python36\\lib\\site-packages\\sklearn\\linear_model\\logistic.py:433: FutureWarning: Default solver will be changed to 'lbfgs' in 0.22. Specify a solver to silence this warning.\n",
      "  FutureWarning)\n",
      "c:\\users\\ravi\\appdata\\local\\programs\\python\\python36\\lib\\site-packages\\sklearn\\linear_model\\logistic.py:433: FutureWarning: Default solver will be changed to 'lbfgs' in 0.22. Specify a solver to silence this warning.\n",
      "  FutureWarning)\n",
      "c:\\users\\ravi\\appdata\\local\\programs\\python\\python36\\lib\\site-packages\\sklearn\\linear_model\\logistic.py:433: FutureWarning: Default solver will be changed to 'lbfgs' in 0.22. Specify a solver to silence this warning.\n",
      "  FutureWarning)\n",
      "c:\\users\\ravi\\appdata\\local\\programs\\python\\python36\\lib\\site-packages\\sklearn\\linear_model\\logistic.py:433: FutureWarning: Default solver will be changed to 'lbfgs' in 0.22. Specify a solver to silence this warning.\n",
      "  FutureWarning)\n",
      "c:\\users\\ravi\\appdata\\local\\programs\\python\\python36\\lib\\site-packages\\sklearn\\linear_model\\logistic.py:433: FutureWarning: Default solver will be changed to 'lbfgs' in 0.22. Specify a solver to silence this warning.\n",
      "  FutureWarning)\n",
      "c:\\users\\ravi\\appdata\\local\\programs\\python\\python36\\lib\\site-packages\\sklearn\\linear_model\\logistic.py:433: FutureWarning: Default solver will be changed to 'lbfgs' in 0.22. Specify a solver to silence this warning.\n",
      "  FutureWarning)\n",
      "c:\\users\\ravi\\appdata\\local\\programs\\python\\python36\\lib\\site-packages\\sklearn\\linear_model\\logistic.py:433: FutureWarning: Default solver will be changed to 'lbfgs' in 0.22. Specify a solver to silence this warning.\n",
      "  FutureWarning)\n",
      "c:\\users\\ravi\\appdata\\local\\programs\\python\\python36\\lib\\site-packages\\sklearn\\linear_model\\logistic.py:433: FutureWarning: Default solver will be changed to 'lbfgs' in 0.22. Specify a solver to silence this warning.\n",
      "  FutureWarning)\n",
      "c:\\users\\ravi\\appdata\\local\\programs\\python\\python36\\lib\\site-packages\\sklearn\\linear_model\\logistic.py:433: FutureWarning: Default solver will be changed to 'lbfgs' in 0.22. Specify a solver to silence this warning.\n",
      "  FutureWarning)\n",
      "c:\\users\\ravi\\appdata\\local\\programs\\python\\python36\\lib\\site-packages\\sklearn\\linear_model\\logistic.py:433: FutureWarning: Default solver will be changed to 'lbfgs' in 0.22. Specify a solver to silence this warning.\n",
      "  FutureWarning)\n"
     ]
    },
    {
     "data": {
      "text/plain": [
       "AdaBoostClassifier(algorithm='SAMME',\n",
       "          base_estimator=LogisticRegression(C=1.0, class_weight=None, dual=False, fit_intercept=True,\n",
       "          intercept_scaling=1, max_iter=100, multi_class='warn',\n",
       "          n_jobs=None, penalty='l2', random_state=None, solver='warn',\n",
       "          tol=0.0001, verbose=0, warm_start=False),\n",
       "          learning_rate=0.5, n_estimators=200, random_state=0)"
      ]
     },
     "execution_count": 41,
     "metadata": {},
     "output_type": "execute_result"
    }
   ],
   "source": [
    "adb_logreg = AdaBoostClassifier(logreg_2, n_estimators=200, algorithm=\"SAMME\", learning_rate=0.5, random_state=0)\n",
    "adb_logreg.fit(X_train_cls, y_train_cls)"
   ]
  },
  {
   "cell_type": "code",
   "execution_count": 42,
   "metadata": {
    "scrolled": true
   },
   "outputs": [
    {
     "name": "stdout",
     "output_type": "stream",
     "text": [
      "Train score: 0.88\n",
      "Test score: 0.88\n"
     ]
    }
   ],
   "source": [
    "print('Train score: {:.2f}'.format(adb_logreg.score(X_train_cls, y_train_cls)))\n",
    "print('Test score: {:.2f}'.format(adb_logreg.score(X_test_cls, y_test_cls)))"
   ]
  },
  {
   "cell_type": "code",
   "execution_count": 43,
   "metadata": {},
   "outputs": [],
   "source": [
    "y_adb_train_predict = adb_logreg.predict(X_train_cls)\n",
    "y_adb_predict = adb_logreg.predict(X_test_cls)"
   ]
  },
  {
   "cell_type": "code",
   "execution_count": 44,
   "metadata": {},
   "outputs": [
    {
     "name": "stdout",
     "output_type": "stream",
     "text": [
      "Train roc_auc_score: 0.90\n",
      "Test roc_auc_score: 0.90 \n"
     ]
    }
   ],
   "source": [
    "print('Train roc_auc_score: %.2f'%roc_auc_score(y_adb_train_predict, y_train_cls))\n",
    "print('Test roc_auc_score: %.2f '%roc_auc_score(y_adb_predict, y_test_cls))"
   ]
  },
  {
   "cell_type": "markdown",
   "metadata": {},
   "source": [
    "### Gradient Boosting Classifier"
   ]
  },
  {
   "cell_type": "code",
   "execution_count": 45,
   "metadata": {},
   "outputs": [],
   "source": [
    "from sklearn.ensemble import GradientBoostingClassifier"
   ]
  },
  {
   "cell_type": "code",
   "execution_count": 46,
   "metadata": {},
   "outputs": [
    {
     "name": "stdout",
     "output_type": "stream",
     "text": [
      "Accuracy on training set: 0.981\n",
      "Accuracy on test set: 0.963\n"
     ]
    }
   ],
   "source": [
    "gbrt = GradientBoostingClassifier(random_state=0)\n",
    "gbrt.fit(X_train_cls, y_train_cls)\n",
    "print(\"Accuracy on training set: {:.3f}\".format(gbrt.score(X_train_cls, y_train_cls)))\n",
    "print(\"Accuracy on test set: {:.3f}\".format(gbrt.score(X_test_cls, y_test_cls)))"
   ]
  },
  {
   "cell_type": "code",
   "execution_count": 47,
   "metadata": {},
   "outputs": [
    {
     "name": "stdout",
     "output_type": "stream",
     "text": [
      "Accuracy on training set: 0.967\n",
      "Accuracy on test set: 0.964\n"
     ]
    }
   ],
   "source": [
    "gbrt_1 = GradientBoostingClassifier(random_state=0, max_depth=1)\n",
    "gbrt_1.fit(X_train_cls, y_train_cls)\n",
    "\n",
    "print(\"Accuracy on training set: {:.3f}\".format(gbrt_1.score(X_train_cls, y_train_cls)))\n",
    "print(\"Accuracy on test set: {:.3f}\".format(gbrt_1.score(X_test_cls, y_test_cls)))"
   ]
  },
  {
   "cell_type": "code",
   "execution_count": 48,
   "metadata": {},
   "outputs": [
    {
     "name": "stdout",
     "output_type": "stream",
     "text": [
      "Accuracy on training set: 0.966\n",
      "Accuracy on test set: 0.964\n"
     ]
    }
   ],
   "source": [
    "gbrt_2 = GradientBoostingClassifier(random_state=0, learning_rate=0.01)\n",
    "gbrt_2.fit(X_train_cls, y_train_cls)\n",
    "\n",
    "print(\"Accuracy on training set: {:.3f}\".format(gbrt_2.score(X_train_cls, y_train_cls)))\n",
    "print(\"Accuracy on test set: {:.3f}\".format(gbrt_2.score(X_test_cls, y_test_cls)))"
   ]
  },
  {
   "cell_type": "markdown",
   "metadata": {},
   "source": [
    "### Principal Component Analysis"
   ]
  },
  {
   "cell_type": "code",
   "execution_count": 49,
   "metadata": {},
   "outputs": [],
   "source": [
    "from sklearn.decomposition import PCA\n",
    "pca_cls = PCA(n_components = 8)"
   ]
  },
  {
   "cell_type": "code",
   "execution_count": 50,
   "metadata": {},
   "outputs": [],
   "source": [
    "X_train_pca_cls = pca_cls.fit_transform(X_train_cls)"
   ]
  },
  {
   "cell_type": "code",
   "execution_count": 51,
   "metadata": {},
   "outputs": [
    {
     "data": {
      "text/plain": [
       "array([0.44505348, 0.15272881, 0.09221293, 0.08945807, 0.08660023,\n",
       "       0.06000856, 0.03839246, 0.0240858 ])"
      ]
     },
     "execution_count": 51,
     "metadata": {},
     "output_type": "execute_result"
    }
   ],
   "source": [
    "pca_cls.explained_variance_ratio_"
   ]
  },
  {
   "cell_type": "code",
   "execution_count": 52,
   "metadata": {},
   "outputs": [
    {
     "data": {
      "text/plain": [
       "0.9885403353400156"
      ]
     },
     "execution_count": 52,
     "metadata": {},
     "output_type": "execute_result"
    }
   ],
   "source": [
    "np.sum(pca_cls.explained_variance_ratio_)"
   ]
  },
  {
   "cell_type": "code",
   "execution_count": 53,
   "metadata": {},
   "outputs": [],
   "source": [
    "X_test_pca_cls = pca_cls.transform(X_test_cls)"
   ]
  },
  {
   "cell_type": "markdown",
   "metadata": {},
   "source": [
    "Logistic Regression"
   ]
  },
  {
   "cell_type": "code",
   "execution_count": 54,
   "metadata": {},
   "outputs": [],
   "source": [
    "from sklearn.linear_model import LogisticRegression\n",
    "\n",
    "pca_logreg = LogisticRegression()"
   ]
  },
  {
   "cell_type": "code",
   "execution_count": 55,
   "metadata": {},
   "outputs": [
    {
     "name": "stdout",
     "output_type": "stream",
     "text": [
      "Cross-validation scores: [0.93553299 0.93604061 0.94670051 0.93857868 0.93092941]\n"
     ]
    },
    {
     "name": "stderr",
     "output_type": "stream",
     "text": [
      "c:\\users\\ravi\\appdata\\local\\programs\\python\\python36\\lib\\site-packages\\sklearn\\linear_model\\logistic.py:433: FutureWarning: Default solver will be changed to 'lbfgs' in 0.22. Specify a solver to silence this warning.\n",
      "  FutureWarning)\n",
      "c:\\users\\ravi\\appdata\\local\\programs\\python\\python36\\lib\\site-packages\\sklearn\\linear_model\\logistic.py:433: FutureWarning: Default solver will be changed to 'lbfgs' in 0.22. Specify a solver to silence this warning.\n",
      "  FutureWarning)\n",
      "c:\\users\\ravi\\appdata\\local\\programs\\python\\python36\\lib\\site-packages\\sklearn\\linear_model\\logistic.py:433: FutureWarning: Default solver will be changed to 'lbfgs' in 0.22. Specify a solver to silence this warning.\n",
      "  FutureWarning)\n",
      "c:\\users\\ravi\\appdata\\local\\programs\\python\\python36\\lib\\site-packages\\sklearn\\linear_model\\logistic.py:433: FutureWarning: Default solver will be changed to 'lbfgs' in 0.22. Specify a solver to silence this warning.\n",
      "  FutureWarning)\n",
      "c:\\users\\ravi\\appdata\\local\\programs\\python\\python36\\lib\\site-packages\\sklearn\\linear_model\\logistic.py:433: FutureWarning: Default solver will be changed to 'lbfgs' in 0.22. Specify a solver to silence this warning.\n",
      "  FutureWarning)\n"
     ]
    }
   ],
   "source": [
    "from sklearn.model_selection import cross_val_score\n",
    "scores_logreg_pca = cross_val_score(pca_logreg, X_train_pca_cls, y_train_cls, cv = 5)\n",
    "print(\"Cross-validation scores: {}\".format(scores_logreg_pca))"
   ]
  },
  {
   "cell_type": "code",
   "execution_count": 56,
   "metadata": {},
   "outputs": [
    {
     "name": "stdout",
     "output_type": "stream",
     "text": [
      "Average cross-validation score: 0.94\n"
     ]
    }
   ],
   "source": [
    "print(\"Average cross-validation score: {:.2f}\".format(scores_logreg_pca.mean()))"
   ]
  },
  {
   "cell_type": "code",
   "execution_count": 57,
   "metadata": {},
   "outputs": [
    {
     "name": "stderr",
     "output_type": "stream",
     "text": [
      "c:\\users\\ravi\\appdata\\local\\programs\\python\\python36\\lib\\site-packages\\sklearn\\linear_model\\logistic.py:433: FutureWarning: Default solver will be changed to 'lbfgs' in 0.22. Specify a solver to silence this warning.\n",
      "  FutureWarning)\n"
     ]
    },
    {
     "data": {
      "text/plain": [
       "LogisticRegression(C=1.0, class_weight=None, dual=False, fit_intercept=True,\n",
       "          intercept_scaling=1, max_iter=100, multi_class='warn',\n",
       "          n_jobs=None, penalty='l2', random_state=None, solver='warn',\n",
       "          tol=0.0001, verbose=0, warm_start=False)"
      ]
     },
     "execution_count": 57,
     "metadata": {},
     "output_type": "execute_result"
    }
   ],
   "source": [
    "pca_logreg.fit(X_train_pca_cls, y_train_cls)"
   ]
  },
  {
   "cell_type": "code",
   "execution_count": 58,
   "metadata": {},
   "outputs": [
    {
     "name": "stdout",
     "output_type": "stream",
     "text": [
      "Test score: 0.94\n"
     ]
    }
   ],
   "source": [
    "print(\"Test score: {:.2f}\".format(pca_logreg.score(X_test_pca_cls, y_test_cls)))"
   ]
  },
  {
   "cell_type": "code",
   "execution_count": 59,
   "metadata": {},
   "outputs": [],
   "source": [
    "y_pcalog_train_predict = pca_logreg.predict(X_train_pca_cls)\n",
    "y_pcalog_predict = pca_logreg.predict(X_test_pca_cls)"
   ]
  },
  {
   "cell_type": "code",
   "execution_count": 60,
   "metadata": {},
   "outputs": [
    {
     "name": "stdout",
     "output_type": "stream",
     "text": [
      "Train roc_auc_score: 0.95\n",
      "Test roc_auc_score: 0.94 \n"
     ]
    }
   ],
   "source": [
    "print('Train roc_auc_score: %.2f'%roc_auc_score(y_pcalog_train_predict, y_train_cls))\n",
    "print('Test roc_auc_score: %.2f '%roc_auc_score(y_pcalog_predict, y_test_cls))"
   ]
  },
  {
   "cell_type": "code",
   "execution_count": 61,
   "metadata": {},
   "outputs": [],
   "source": [
    "table_cls = [['log regression', ' ', scores_logreg_pca.mean(), pca_logreg.score(X_test_pca_cls, y_test_cls), roc_auc_score(y_pcalog_train_predict, y_train_cls), roc_auc_score(y_pcalog_predict, y_test_cls)]]"
   ]
  },
  {
   "cell_type": "markdown",
   "metadata": {},
   "source": [
    "KNN"
   ]
  },
  {
   "cell_type": "code",
   "execution_count": 62,
   "metadata": {},
   "outputs": [
    {
     "data": {
      "text/plain": [
       "GridSearchCV(cv=5, error_score='raise-deprecating',\n",
       "       estimator=KNeighborsClassifier(algorithm='auto', leaf_size=30, metric='minkowski',\n",
       "           metric_params=None, n_jobs=None, n_neighbors=5, p=2,\n",
       "           weights='uniform'),\n",
       "       fit_params=None, iid='warn', n_jobs=None,\n",
       "       param_grid={'n_neighbors': [1, 5, 10, 15, 20]},\n",
       "       pre_dispatch='2*n_jobs', refit=True, return_train_score='warn',\n",
       "       scoring='roc_auc', verbose=0)"
      ]
     },
     "execution_count": 62,
     "metadata": {},
     "output_type": "execute_result"
    }
   ],
   "source": [
    "from sklearn.model_selection import GridSearchCV\n",
    "from sklearn.neighbors import KNeighborsClassifier\n",
    "\n",
    "knn_pca_cls = KNeighborsClassifier()\n",
    "param_knn_cls = {'n_neighbors':[1, 5, 10, 15, 20]}\n",
    "\n",
    "grid_knn_cls = GridSearchCV(knn_pca_cls, param_knn_cls, cv = 5, scoring='roc_auc')\n",
    "grid_knn_cls.fit(X_train_pca_cls, y_train_cls)"
   ]
  },
  {
   "cell_type": "code",
   "execution_count": 63,
   "metadata": {},
   "outputs": [
    {
     "data": {
      "text/plain": [
       "0.9903278459864671"
      ]
     },
     "execution_count": 63,
     "metadata": {},
     "output_type": "execute_result"
    }
   ],
   "source": [
    "grid_knn_cls.score(X_train_pca_cls, y_train_cls)"
   ]
  },
  {
   "cell_type": "code",
   "execution_count": 64,
   "metadata": {},
   "outputs": [
    {
     "data": {
      "text/plain": [
       "0.9848359967399126"
      ]
     },
     "execution_count": 64,
     "metadata": {},
     "output_type": "execute_result"
    }
   ],
   "source": [
    "grid_knn_cls.score(X_test_pca_cls, y_test_cls)"
   ]
  },
  {
   "cell_type": "code",
   "execution_count": 65,
   "metadata": {
    "scrolled": true
   },
   "outputs": [
    {
     "data": {
      "text/plain": [
       "{'n_neighbors': 20}"
      ]
     },
     "execution_count": 65,
     "metadata": {},
     "output_type": "execute_result"
    }
   ],
   "source": [
    "grid_knn_cls.best_params_"
   ]
  },
  {
   "cell_type": "code",
   "execution_count": 66,
   "metadata": {},
   "outputs": [],
   "source": [
    "y_pcaknn_train_predict = grid_knn_cls.predict(X_train_pca_cls)\n",
    "y_pcaknn_predict = grid_knn_cls.predict(X_test_pca_cls)"
   ]
  },
  {
   "cell_type": "code",
   "execution_count": 67,
   "metadata": {},
   "outputs": [
    {
     "name": "stdout",
     "output_type": "stream",
     "text": [
      "Train roc_auc_score: 0.94\n",
      "Test roc_auc_score: 0.93 \n"
     ]
    }
   ],
   "source": [
    "print('Train roc_auc_score: %.2f'%roc_auc_score(y_pcaknn_train_predict, y_train_cls))\n",
    "print('Test roc_auc_score: %.2f '%roc_auc_score(y_pcaknn_predict, y_test_cls))"
   ]
  },
  {
   "cell_type": "code",
   "execution_count": 68,
   "metadata": {},
   "outputs": [],
   "source": [
    "table_cls = table_cls + [['knn', 'k = 20', grid_knn_cls.score(X_train_pca_cls, y_train_cls), grid_knn_cls.score(X_test_pca_cls, y_test_cls), roc_auc_score(y_pcaknn_train_predict, y_train_cls), roc_auc_score(y_pcaknn_predict, y_test_cls)]]"
   ]
  },
  {
   "cell_type": "markdown",
   "metadata": {},
   "source": [
    "LinearSVC"
   ]
  },
  {
   "cell_type": "code",
   "execution_count": 69,
   "metadata": {},
   "outputs": [],
   "source": [
    "from sklearn.svm import LinearSVC\n",
    "\n",
    "pca_slin = LinearSVC()\n",
    "param_svlin = {'C':[0.001, 0.01, 0.1, 1, 10, 100]}\n",
    "\n",
    "grid_svc_lin = GridSearchCV(pca_slin, param_svlin, cv = 5, scoring='roc_auc', return_train_score=True)"
   ]
  },
  {
   "cell_type": "code",
   "execution_count": 70,
   "metadata": {
    "scrolled": true
   },
   "outputs": [
    {
     "name": "stderr",
     "output_type": "stream",
     "text": [
      "c:\\users\\ravi\\appdata\\local\\programs\\python\\python36\\lib\\site-packages\\sklearn\\svm\\base.py:922: ConvergenceWarning: Liblinear failed to converge, increase the number of iterations.\n",
      "  \"the number of iterations.\", ConvergenceWarning)\n",
      "c:\\users\\ravi\\appdata\\local\\programs\\python\\python36\\lib\\site-packages\\sklearn\\svm\\base.py:922: ConvergenceWarning: Liblinear failed to converge, increase the number of iterations.\n",
      "  \"the number of iterations.\", ConvergenceWarning)\n",
      "c:\\users\\ravi\\appdata\\local\\programs\\python\\python36\\lib\\site-packages\\sklearn\\svm\\base.py:922: ConvergenceWarning: Liblinear failed to converge, increase the number of iterations.\n",
      "  \"the number of iterations.\", ConvergenceWarning)\n",
      "c:\\users\\ravi\\appdata\\local\\programs\\python\\python36\\lib\\site-packages\\sklearn\\svm\\base.py:922: ConvergenceWarning: Liblinear failed to converge, increase the number of iterations.\n",
      "  \"the number of iterations.\", ConvergenceWarning)\n",
      "c:\\users\\ravi\\appdata\\local\\programs\\python\\python36\\lib\\site-packages\\sklearn\\svm\\base.py:922: ConvergenceWarning: Liblinear failed to converge, increase the number of iterations.\n",
      "  \"the number of iterations.\", ConvergenceWarning)\n",
      "c:\\users\\ravi\\appdata\\local\\programs\\python\\python36\\lib\\site-packages\\sklearn\\svm\\base.py:922: ConvergenceWarning: Liblinear failed to converge, increase the number of iterations.\n",
      "  \"the number of iterations.\", ConvergenceWarning)\n",
      "c:\\users\\ravi\\appdata\\local\\programs\\python\\python36\\lib\\site-packages\\sklearn\\svm\\base.py:922: ConvergenceWarning: Liblinear failed to converge, increase the number of iterations.\n",
      "  \"the number of iterations.\", ConvergenceWarning)\n",
      "c:\\users\\ravi\\appdata\\local\\programs\\python\\python36\\lib\\site-packages\\sklearn\\svm\\base.py:922: ConvergenceWarning: Liblinear failed to converge, increase the number of iterations.\n",
      "  \"the number of iterations.\", ConvergenceWarning)\n",
      "c:\\users\\ravi\\appdata\\local\\programs\\python\\python36\\lib\\site-packages\\sklearn\\svm\\base.py:922: ConvergenceWarning: Liblinear failed to converge, increase the number of iterations.\n",
      "  \"the number of iterations.\", ConvergenceWarning)\n",
      "c:\\users\\ravi\\appdata\\local\\programs\\python\\python36\\lib\\site-packages\\sklearn\\svm\\base.py:922: ConvergenceWarning: Liblinear failed to converge, increase the number of iterations.\n",
      "  \"the number of iterations.\", ConvergenceWarning)\n"
     ]
    },
    {
     "data": {
      "text/plain": [
       "GridSearchCV(cv=5, error_score='raise-deprecating',\n",
       "       estimator=LinearSVC(C=1.0, class_weight=None, dual=True, fit_intercept=True,\n",
       "     intercept_scaling=1, loss='squared_hinge', max_iter=1000,\n",
       "     multi_class='ovr', penalty='l2', random_state=None, tol=0.0001,\n",
       "     verbose=0),\n",
       "       fit_params=None, iid='warn', n_jobs=None,\n",
       "       param_grid={'C': [0.001, 0.01, 0.1, 1, 10, 100]},\n",
       "       pre_dispatch='2*n_jobs', refit=True, return_train_score=True,\n",
       "       scoring='roc_auc', verbose=0)"
      ]
     },
     "execution_count": 70,
     "metadata": {},
     "output_type": "execute_result"
    }
   ],
   "source": [
    "grid_svc_lin.fit(X_train_pca_cls, y_train_cls)"
   ]
  },
  {
   "cell_type": "code",
   "execution_count": 71,
   "metadata": {},
   "outputs": [
    {
     "data": {
      "text/plain": [
       "{'C': 0.1}"
      ]
     },
     "execution_count": 71,
     "metadata": {},
     "output_type": "execute_result"
    }
   ],
   "source": [
    "grid_svc_lin.best_params_"
   ]
  },
  {
   "cell_type": "code",
   "execution_count": 72,
   "metadata": {},
   "outputs": [
    {
     "data": {
      "text/plain": [
       "0.9890419408531992"
      ]
     },
     "execution_count": 72,
     "metadata": {},
     "output_type": "execute_result"
    }
   ],
   "source": [
    "grid_svc_lin.score(X_train_pca_cls, y_train_cls)"
   ]
  },
  {
   "cell_type": "code",
   "execution_count": 73,
   "metadata": {},
   "outputs": [
    {
     "data": {
      "text/plain": [
       "0.9889079237450695"
      ]
     },
     "execution_count": 73,
     "metadata": {},
     "output_type": "execute_result"
    }
   ],
   "source": [
    "grid_svc_lin.score(X_test_pca_cls, y_test_cls)"
   ]
  },
  {
   "cell_type": "code",
   "execution_count": 74,
   "metadata": {},
   "outputs": [],
   "source": [
    "y_pcalsvc_train_predict = grid_svc_lin.predict(X_train_pca_cls)\n",
    "y_pcalsvc_predict = grid_svc_lin.predict(X_test_pca_cls)"
   ]
  },
  {
   "cell_type": "code",
   "execution_count": 75,
   "metadata": {},
   "outputs": [
    {
     "name": "stdout",
     "output_type": "stream",
     "text": [
      "Train roc_auc_score: 0.95\n",
      "Test roc_auc_score: 0.94 \n"
     ]
    }
   ],
   "source": [
    "print('Train roc_auc_score: %.2f'%roc_auc_score(y_pcalsvc_train_predict, y_train_cls))\n",
    "print('Test roc_auc_score: %.2f '%roc_auc_score(y_pcalsvc_predict, y_test_cls))"
   ]
  },
  {
   "cell_type": "code",
   "execution_count": 76,
   "metadata": {},
   "outputs": [],
   "source": [
    "table_cls = table_cls + [['LinearSVC', 'C = 0.1', grid_svc_lin.score(X_train_pca_cls, y_train_cls), grid_svc_lin.score(X_test_pca_cls, y_test_cls), roc_auc_score(y_pcalsvc_train_predict, y_train_cls), roc_auc_score(y_pcalsvc_predict, y_test_cls)]]"
   ]
  },
  {
   "cell_type": "markdown",
   "metadata": {},
   "source": [
    "Kernel SVC"
   ]
  },
  {
   "cell_type": "code",
   "execution_count": 77,
   "metadata": {},
   "outputs": [],
   "source": [
    "from sklearn.svm import SVC"
   ]
  },
  {
   "cell_type": "code",
   "execution_count": 78,
   "metadata": {},
   "outputs": [],
   "source": [
    "param_kernel = {'C': [0.001, 0.01, 0.1, 1, 10, 100],\n",
    "              'gamma': [0.001, 0.01, 0.1, 1, 10, 100]}"
   ]
  },
  {
   "cell_type": "code",
   "execution_count": 79,
   "metadata": {},
   "outputs": [],
   "source": [
    "grid_kernel = GridSearchCV(SVC(kernel = 'rbf'), param_kernel, cv=5, return_train_score=True)"
   ]
  },
  {
   "cell_type": "code",
   "execution_count": 80,
   "metadata": {
    "scrolled": true
   },
   "outputs": [
    {
     "data": {
      "text/plain": [
       "GridSearchCV(cv=5, error_score='raise-deprecating',\n",
       "       estimator=SVC(C=1.0, cache_size=200, class_weight=None, coef0=0.0,\n",
       "  decision_function_shape='ovr', degree=3, gamma='auto_deprecated',\n",
       "  kernel='rbf', max_iter=-1, probability=False, random_state=None,\n",
       "  shrinking=True, tol=0.001, verbose=False),\n",
       "       fit_params=None, iid='warn', n_jobs=None,\n",
       "       param_grid={'C': [0.001, 0.01, 0.1, 1, 10, 100], 'gamma': [0.001, 0.01, 0.1, 1, 10, 100]},\n",
       "       pre_dispatch='2*n_jobs', refit=True, return_train_score=True,\n",
       "       scoring=None, verbose=0)"
      ]
     },
     "execution_count": 80,
     "metadata": {},
     "output_type": "execute_result"
    }
   ],
   "source": [
    "grid_kernel.fit(X_train_pca_cls, y_train_cls)"
   ]
  },
  {
   "cell_type": "code",
   "execution_count": 81,
   "metadata": {},
   "outputs": [
    {
     "data": {
      "text/plain": [
       "{'C': 100, 'gamma': 0.1}"
      ]
     },
     "execution_count": 81,
     "metadata": {},
     "output_type": "execute_result"
    }
   ],
   "source": [
    "grid_kernel.best_params_"
   ]
  },
  {
   "cell_type": "code",
   "execution_count": 82,
   "metadata": {},
   "outputs": [
    {
     "data": {
      "text/plain": [
       "0.9550208142958676"
      ]
     },
     "execution_count": 82,
     "metadata": {},
     "output_type": "execute_result"
    }
   ],
   "source": [
    "grid_kernel.score(X_train_pca_cls, y_train_cls)"
   ]
  },
  {
   "cell_type": "code",
   "execution_count": 83,
   "metadata": {},
   "outputs": [
    {
     "data": {
      "text/plain": [
       "0.9559450497394599"
      ]
     },
     "execution_count": 83,
     "metadata": {},
     "output_type": "execute_result"
    }
   ],
   "source": [
    "grid_kernel.score(X_test_pca_cls, y_test_cls)"
   ]
  },
  {
   "cell_type": "code",
   "execution_count": 84,
   "metadata": {},
   "outputs": [],
   "source": [
    "y_kernel_train_predict = grid_kernel.predict(X_train_pca_cls)\n",
    "y_kernel_predict = grid_kernel.predict(X_test_pca_cls)"
   ]
  },
  {
   "cell_type": "code",
   "execution_count": 85,
   "metadata": {},
   "outputs": [
    {
     "name": "stdout",
     "output_type": "stream",
     "text": [
      "Train roc_auc_score: 0.94\n",
      "Test roc_auc_score: 0.94 \n"
     ]
    }
   ],
   "source": [
    "print('Train roc_auc_score: %.2f'%roc_auc_score(y_kernel_train_predict, y_train_cls))\n",
    "print('Test roc_auc_score: %.2f '%roc_auc_score(y_kernel_predict, y_test_cls))"
   ]
  },
  {
   "cell_type": "code",
   "execution_count": 86,
   "metadata": {},
   "outputs": [],
   "source": [
    "table_cls = table_cls + [[' Kernel SVC', 'C = 100, gamma = 0.1', grid_kernel.score(X_train_pca_cls, y_train_cls), grid_kernel.score(X_test_pca_cls, y_test_cls), roc_auc_score(y_kernel_train_predict, y_train_cls), roc_auc_score(y_kernel_predict, y_test_cls)]]"
   ]
  },
  {
   "cell_type": "markdown",
   "metadata": {},
   "source": [
    "Deision Tree Classification"
   ]
  },
  {
   "cell_type": "code",
   "execution_count": 87,
   "metadata": {},
   "outputs": [],
   "source": [
    "from sklearn.tree import DecisionTreeClassifier"
   ]
  },
  {
   "cell_type": "code",
   "execution_count": 88,
   "metadata": {},
   "outputs": [],
   "source": [
    "dtree = DecisionTreeClassifier(random_state=0)"
   ]
  },
  {
   "cell_type": "code",
   "execution_count": 89,
   "metadata": {},
   "outputs": [],
   "source": [
    "param_dtree = {'min_samples_split' : range(10,500,20),'max_depth': range(1,20,2)}"
   ]
  },
  {
   "cell_type": "code",
   "execution_count": 90,
   "metadata": {},
   "outputs": [
    {
     "name": "stderr",
     "output_type": "stream",
     "text": [
      "c:\\users\\ravi\\appdata\\local\\programs\\python\\python36\\lib\\site-packages\\sklearn\\model_selection\\_split.py:2053: FutureWarning: You should specify a value for 'cv' instead of relying on the default value. The default value will change from 3 to 5 in version 0.22.\n",
      "  warnings.warn(CV_WARNING, FutureWarning)\n"
     ]
    },
    {
     "data": {
      "text/plain": [
       "GridSearchCV(cv='warn', error_score='raise-deprecating',\n",
       "       estimator=DecisionTreeClassifier(class_weight=None, criterion='gini', max_depth=None,\n",
       "            max_features=None, max_leaf_nodes=None,\n",
       "            min_impurity_decrease=0.0, min_impurity_split=None,\n",
       "            min_samples_leaf=1, min_samples_split=2,\n",
       "            min_weight_fraction_leaf=0.0, presort=False, random_state=0,\n",
       "            splitter='best'),\n",
       "       fit_params=None, iid='warn', n_jobs=None,\n",
       "       param_grid={'min_samples_split': range(10, 500, 20), 'max_depth': range(1, 20, 2)},\n",
       "       pre_dispatch='2*n_jobs', refit=True, return_train_score='warn',\n",
       "       scoring=None, verbose=0)"
      ]
     },
     "execution_count": 90,
     "metadata": {},
     "output_type": "execute_result"
    }
   ],
   "source": [
    "grid_dtree = GridSearchCV(dtree,param_dtree)\n",
    "grid_dtree.fit(X_train_pca_cls,y_train_cls)"
   ]
  },
  {
   "cell_type": "code",
   "execution_count": 91,
   "metadata": {},
   "outputs": [
    {
     "data": {
      "text/plain": [
       "{'max_depth': 5, 'min_samples_split': 270}"
      ]
     },
     "execution_count": 91,
     "metadata": {},
     "output_type": "execute_result"
    }
   ],
   "source": [
    "grid_dtree.best_params_"
   ]
  },
  {
   "cell_type": "code",
   "execution_count": 92,
   "metadata": {},
   "outputs": [],
   "source": [
    "y_dtree_predict_train = grid_dtree.predict(X_train_pca_cls)\n",
    "y_dtree_predict = grid_dtree.predict(X_test_pca_cls)"
   ]
  },
  {
   "cell_type": "code",
   "execution_count": 93,
   "metadata": {},
   "outputs": [
    {
     "data": {
      "text/plain": [
       "0.9490018269875276"
      ]
     },
     "execution_count": 93,
     "metadata": {},
     "output_type": "execute_result"
    }
   ],
   "source": [
    "roc_auc_score(y_dtree_predict_train, y_train_cls)"
   ]
  },
  {
   "cell_type": "code",
   "execution_count": 94,
   "metadata": {},
   "outputs": [
    {
     "data": {
      "text/plain": [
       "0.93846159723562"
      ]
     },
     "execution_count": 94,
     "metadata": {},
     "output_type": "execute_result"
    }
   ],
   "source": [
    "roc_auc_score(y_dtree_predict, y_test_cls)"
   ]
  },
  {
   "cell_type": "code",
   "execution_count": 95,
   "metadata": {},
   "outputs": [],
   "source": [
    "table_cls = table_cls + [[' Decision Tree', 'max_depth = 5, min_samples_split = 150', grid_dtree.score(X_train_pca_cls, y_train_cls), grid_dtree.score(X_test_pca_cls, y_test_cls), roc_auc_score(y_dtree_predict_train, y_train_cls), roc_auc_score(y_dtree_predict, y_test_cls)]]"
   ]
  },
  {
   "cell_type": "code",
   "execution_count": 96,
   "metadata": {},
   "outputs": [],
   "source": [
    "report_cls = pd.DataFrame(table_cls,columns = ['Model name', 'Model parameter', 'Train accuracy', 'Test accuracy', 'ROC_AUC Train Score', 'ROC_AUC Test Score'])"
   ]
  },
  {
   "cell_type": "code",
   "execution_count": 97,
   "metadata": {},
   "outputs": [],
   "source": [
    "report_cls.set_index('Model name', inplace=True)"
   ]
  },
  {
   "cell_type": "code",
   "execution_count": 98,
   "metadata": {},
   "outputs": [
    {
     "data": {
      "text/html": [
       "<div>\n",
       "<style scoped>\n",
       "    .dataframe tbody tr th:only-of-type {\n",
       "        vertical-align: middle;\n",
       "    }\n",
       "\n",
       "    .dataframe tbody tr th {\n",
       "        vertical-align: top;\n",
       "    }\n",
       "\n",
       "    .dataframe thead th {\n",
       "        text-align: right;\n",
       "    }\n",
       "</style>\n",
       "<table border=\"1\" class=\"dataframe\">\n",
       "  <thead>\n",
       "    <tr style=\"text-align: right;\">\n",
       "      <th></th>\n",
       "      <th>Model parameter</th>\n",
       "      <th>Train accuracy</th>\n",
       "      <th>Test accuracy</th>\n",
       "      <th>ROC_AUC Train Score</th>\n",
       "      <th>ROC_AUC Test Score</th>\n",
       "    </tr>\n",
       "    <tr>\n",
       "      <th>Model name</th>\n",
       "      <th></th>\n",
       "      <th></th>\n",
       "      <th></th>\n",
       "      <th></th>\n",
       "      <th></th>\n",
       "    </tr>\n",
       "  </thead>\n",
       "  <tbody>\n",
       "    <tr>\n",
       "      <th>log regression</th>\n",
       "      <td></td>\n",
       "      <td>0.937556</td>\n",
       "      <td>0.939602</td>\n",
       "      <td>0.951194</td>\n",
       "      <td>0.942848</td>\n",
       "    </tr>\n",
       "    <tr>\n",
       "      <th>knn</th>\n",
       "      <td>k = 20</td>\n",
       "      <td>0.990328</td>\n",
       "      <td>0.984836</td>\n",
       "      <td>0.937561</td>\n",
       "      <td>0.930736</td>\n",
       "    </tr>\n",
       "    <tr>\n",
       "      <th>LinearSVC</th>\n",
       "      <td>C = 0.1</td>\n",
       "      <td>0.989042</td>\n",
       "      <td>0.988908</td>\n",
       "      <td>0.952006</td>\n",
       "      <td>0.942936</td>\n",
       "    </tr>\n",
       "    <tr>\n",
       "      <th>Kernel SVC</th>\n",
       "      <td>C = 100, gamma = 0.1</td>\n",
       "      <td>0.955021</td>\n",
       "      <td>0.955945</td>\n",
       "      <td>0.942676</td>\n",
       "      <td>0.937226</td>\n",
       "    </tr>\n",
       "    <tr>\n",
       "      <th>Decision Tree</th>\n",
       "      <td>max_depth = 5, min_samples_split = 150</td>\n",
       "      <td>0.953396</td>\n",
       "      <td>0.951682</td>\n",
       "      <td>0.949002</td>\n",
       "      <td>0.938462</td>\n",
       "    </tr>\n",
       "  </tbody>\n",
       "</table>\n",
       "</div>"
      ],
      "text/plain": [
       "                                       Model parameter  Train accuracy  \\\n",
       "Model name                                                               \n",
       "log regression                                                0.937556   \n",
       "knn                                             k = 20        0.990328   \n",
       "LinearSVC                                      C = 0.1        0.989042   \n",
       " Kernel SVC                       C = 100, gamma = 0.1        0.955021   \n",
       " Decision Tree  max_depth = 5, min_samples_split = 150        0.953396   \n",
       "\n",
       "                Test accuracy  ROC_AUC Train Score  ROC_AUC Test Score  \n",
       "Model name                                                              \n",
       "log regression       0.939602             0.951194            0.942848  \n",
       "knn                  0.984836             0.937561            0.930736  \n",
       "LinearSVC            0.988908             0.952006            0.942936  \n",
       " Kernel SVC          0.955945             0.942676            0.937226  \n",
       " Decision Tree       0.951682             0.949002            0.938462  "
      ]
     },
     "execution_count": 98,
     "metadata": {},
     "output_type": "execute_result"
    }
   ],
   "source": [
    "report_cls"
   ]
  },
  {
   "cell_type": "markdown",
   "metadata": {},
   "source": [
    "### Deep Learning"
   ]
  },
  {
   "cell_type": "code",
   "execution_count": 99,
   "metadata": {},
   "outputs": [
    {
     "name": "stderr",
     "output_type": "stream",
     "text": [
      "Using TensorFlow backend.\n"
     ]
    }
   ],
   "source": [
    "from keras.models import Sequential\n",
    "from keras.layers import Dense\n",
    "import numpy\n",
    "\n",
    "numpy.random.seed(10)"
   ]
  },
  {
   "cell_type": "code",
   "execution_count": 100,
   "metadata": {},
   "outputs": [
    {
     "data": {
      "text/plain": [
       "(140707, 77)"
      ]
     },
     "execution_count": 100,
     "metadata": {},
     "output_type": "execute_result"
    }
   ],
   "source": [
    "X_cls.shape"
   ]
  },
  {
   "cell_type": "code",
   "execution_count": 101,
   "metadata": {},
   "outputs": [],
   "source": [
    "model = Sequential()\n",
    "model.add(Dense(12, input_dim=77, activation='relu'))\n",
    "model.add(Dense(8, activation='relu'))\n",
    "model.add(Dense(1, activation='sigmoid'))"
   ]
  },
  {
   "cell_type": "code",
   "execution_count": 102,
   "metadata": {},
   "outputs": [],
   "source": [
    "model.compile(loss='binary_crossentropy', optimizer='adam', metrics=['accuracy'])"
   ]
  },
  {
   "cell_type": "code",
   "execution_count": 103,
   "metadata": {
    "scrolled": true
   },
   "outputs": [
    {
     "name": "stdout",
     "output_type": "stream",
     "text": [
      "Epoch 1/100\n",
      "9849/9849 [==============================] - 2s 197us/step - loss: 0.2907 - acc: 0.8846\n",
      "Epoch 2/100\n",
      "9849/9849 [==============================] - 2s 156us/step - loss: 0.1158 - acc: 0.9539\n",
      "Epoch 3/100\n",
      "9849/9849 [==============================] - 2s 157us/step - loss: 0.1094 - acc: 0.9554\n",
      "Epoch 4/100\n",
      "9849/9849 [==============================] - 2s 164us/step - loss: 0.1082 - acc: 0.9562\n",
      "Epoch 5/100\n",
      "9849/9849 [==============================] - 2s 170us/step - loss: 0.1053 - acc: 0.9565\n",
      "Epoch 6/100\n",
      "9849/9849 [==============================] - 2s 153us/step - loss: 0.1055 - acc: 0.9574\n",
      "Epoch 7/100\n",
      "9849/9849 [==============================] - 2s 157us/step - loss: 0.1030 - acc: 0.9581\n",
      "Epoch 8/100\n",
      "9849/9849 [==============================] - 2s 175us/step - loss: 0.1035 - acc: 0.9596\n",
      "Epoch 9/100\n",
      "9849/9849 [==============================] - 2s 190us/step - loss: 0.1019 - acc: 0.9591\n",
      "Epoch 10/100\n",
      "9849/9849 [==============================] - 2s 194us/step - loss: 0.1015 - acc: 0.9594\n",
      "Epoch 11/100\n",
      "9849/9849 [==============================] - 2s 188us/step - loss: 0.1005 - acc: 0.9590\n",
      "Epoch 12/100\n",
      "9849/9849 [==============================] - 2s 179us/step - loss: 0.1005 - acc: 0.9598\n",
      "Epoch 13/100\n",
      "9849/9849 [==============================] - 2s 181us/step - loss: 0.0997 - acc: 0.9605\n",
      "Epoch 14/100\n",
      "9849/9849 [==============================] - 2s 182us/step - loss: 0.0990 - acc: 0.9598\n",
      "Epoch 15/100\n",
      "9849/9849 [==============================] - 2s 160us/step - loss: 0.0996 - acc: 0.9606\n",
      "Epoch 16/100\n",
      "9849/9849 [==============================] - 2s 161us/step - loss: 0.0996 - acc: 0.9600\n",
      "Epoch 17/100\n",
      "9849/9849 [==============================] - 2s 155us/step - loss: 0.0986 - acc: 0.9607\n",
      "Epoch 18/100\n",
      "9849/9849 [==============================] - 2s 160us/step - loss: 0.0977 - acc: 0.9618\n",
      "Epoch 19/100\n",
      "9849/9849 [==============================] - 2s 160us/step - loss: 0.0970 - acc: 0.9630\n",
      "Epoch 20/100\n",
      "9849/9849 [==============================] - 2s 158us/step - loss: 0.0969 - acc: 0.9621\n",
      "Epoch 21/100\n",
      "9849/9849 [==============================] - 2s 159us/step - loss: 0.0976 - acc: 0.9600\n",
      "Epoch 22/100\n",
      "9849/9849 [==============================] - 2s 157us/step - loss: 0.0965 - acc: 0.9613\n",
      "Epoch 23/100\n",
      "9849/9849 [==============================] - 2s 158us/step - loss: 0.0958 - acc: 0.9618\n",
      "Epoch 24/100\n",
      "9849/9849 [==============================] - 2s 158us/step - loss: 0.0969 - acc: 0.9616\n",
      "Epoch 25/100\n",
      "9849/9849 [==============================] - 2s 157us/step - loss: 0.0962 - acc: 0.9620\n",
      "Epoch 26/100\n",
      "9849/9849 [==============================] - 2s 157us/step - loss: 0.0954 - acc: 0.9631\n",
      "Epoch 27/100\n",
      "9849/9849 [==============================] - 2s 173us/step - loss: 0.0957 - acc: 0.9642\n",
      "Epoch 28/100\n",
      "9849/9849 [==============================] - 2s 157us/step - loss: 0.0961 - acc: 0.9627\n",
      "Epoch 29/100\n",
      "9849/9849 [==============================] - 2s 155us/step - loss: 0.0951 - acc: 0.9623\n",
      "Epoch 30/100\n",
      "9849/9849 [==============================] - 2s 157us/step - loss: 0.0959 - acc: 0.9622\n",
      "Epoch 31/100\n",
      "9849/9849 [==============================] - 2s 160us/step - loss: 0.0953 - acc: 0.9627\n",
      "Epoch 32/100\n",
      "9849/9849 [==============================] - 2s 157us/step - loss: 0.0959 - acc: 0.9640\n",
      "Epoch 33/100\n",
      "9849/9849 [==============================] - 2s 160us/step - loss: 0.0953 - acc: 0.9634\n",
      "Epoch 34/100\n",
      "9849/9849 [==============================] - 2s 160us/step - loss: 0.0967 - acc: 0.9620\n",
      "Epoch 35/100\n",
      "9849/9849 [==============================] - 2s 158us/step - loss: 0.0953 - acc: 0.9634\n",
      "Epoch 36/100\n",
      "9849/9849 [==============================] - 2s 156us/step - loss: 0.0950 - acc: 0.9632\n",
      "Epoch 37/100\n",
      "9849/9849 [==============================] - 2s 159us/step - loss: 0.0951 - acc: 0.9628\n",
      "Epoch 38/100\n",
      "9849/9849 [==============================] - 2s 159us/step - loss: 0.0954 - acc: 0.9624\n",
      "Epoch 39/100\n",
      "9849/9849 [==============================] - 2s 157us/step - loss: 0.0940 - acc: 0.9619\n",
      "Epoch 40/100\n",
      "9849/9849 [==============================] - 2s 158us/step - loss: 0.0954 - acc: 0.9647\n",
      "Epoch 41/100\n",
      "9849/9849 [==============================] - 2s 164us/step - loss: 0.0942 - acc: 0.9620\n",
      "Epoch 42/100\n",
      "9849/9849 [==============================] - 2s 159us/step - loss: 0.0948 - acc: 0.9643 1\n",
      "Epoch 43/100\n",
      "9849/9849 [==============================] - 2s 158us/step - loss: 0.0951 - acc: 0.9626\n",
      "Epoch 44/100\n",
      "9849/9849 [==============================] - 2s 160us/step - loss: 0.0939 - acc: 0.9635\n",
      "Epoch 45/100\n",
      "9849/9849 [==============================] - 2s 156us/step - loss: 0.0945 - acc: 0.9643\n",
      "Epoch 46/100\n",
      "9849/9849 [==============================] - 2s 155us/step - loss: 0.0950 - acc: 0.9633\n",
      "Epoch 47/100\n",
      "9849/9849 [==============================] - 2s 159us/step - loss: 0.0940 - acc: 0.9627\n",
      "Epoch 48/100\n",
      "9849/9849 [==============================] - 2s 156us/step - loss: 0.0953 - acc: 0.9621\n",
      "Epoch 49/100\n",
      "9849/9849 [==============================] - 2s 156us/step - loss: 0.0943 - acc: 0.9641\n",
      "Epoch 50/100\n",
      "9849/9849 [==============================] - 2s 156us/step - loss: 0.0941 - acc: 0.9629\n",
      "Epoch 51/100\n",
      "9849/9849 [==============================] - 2s 177us/step - loss: 0.0944 - acc: 0.9629\n",
      "Epoch 52/100\n",
      "9849/9849 [==============================] - 2s 158us/step - loss: 0.0943 - acc: 0.9639\n",
      "Epoch 53/100\n",
      "9849/9849 [==============================] - 2s 157us/step - loss: 0.0937 - acc: 0.9631\n",
      "Epoch 54/100\n",
      "9849/9849 [==============================] - 2s 158us/step - loss: 0.0932 - acc: 0.9631\n",
      "Epoch 55/100\n",
      "9849/9849 [==============================] - 2s 156us/step - loss: 0.0939 - acc: 0.9645 1s \n",
      "Epoch 56/100\n",
      "9849/9849 [==============================] - 2s 157us/step - loss: 0.0945 - acc: 0.9635\n",
      "Epoch 57/100\n",
      "9849/9849 [==============================] - 2s 159us/step - loss: 0.0934 - acc: 0.9629\n",
      "Epoch 58/100\n",
      "9849/9849 [==============================] - 2s 157us/step - loss: 0.0942 - acc: 0.9640\n",
      "Epoch 59/100\n",
      "9849/9849 [==============================] - 2s 155us/step - loss: 0.0936 - acc: 0.9635\n",
      "Epoch 60/100\n",
      "9849/9849 [==============================] - 2s 166us/step - loss: 0.0927 - acc: 0.9639\n",
      "Epoch 61/100\n",
      "9849/9849 [==============================] - 2s 158us/step - loss: 0.0929 - acc: 0.9629\n",
      "Epoch 62/100\n",
      "9849/9849 [==============================] - 2s 155us/step - loss: 0.0928 - acc: 0.9641\n",
      "Epoch 63/100\n",
      "9849/9849 [==============================] - 2s 164us/step - loss: 0.0929 - acc: 0.9635\n",
      "Epoch 64/100\n",
      "9849/9849 [==============================] - 2s 178us/step - loss: 0.0926 - acc: 0.9642\n",
      "Epoch 65/100\n",
      "9849/9849 [==============================] - 2s 189us/step - loss: 0.0926 - acc: 0.9649\n",
      "Epoch 66/100\n",
      "9849/9849 [==============================] - 2s 160us/step - loss: 0.0935 - acc: 0.9625\n",
      "Epoch 67/100\n",
      "9849/9849 [==============================] - 2s 156us/step - loss: 0.0928 - acc: 0.9658\n",
      "Epoch 68/100\n",
      "9849/9849 [==============================] - 2s 155us/step - loss: 0.0925 - acc: 0.9635\n",
      "Epoch 69/100\n",
      "9849/9849 [==============================] - 2s 155us/step - loss: 0.0927 - acc: 0.9628\n",
      "Epoch 70/100\n",
      "9849/9849 [==============================] - 2s 159us/step - loss: 0.0939 - acc: 0.9626\n",
      "Epoch 71/100\n",
      "9849/9849 [==============================] - 2s 157us/step - loss: 0.0938 - acc: 0.9627\n",
      "Epoch 72/100\n",
      "9849/9849 [==============================] - 2s 155us/step - loss: 0.0927 - acc: 0.9639\n",
      "Epoch 73/100\n",
      "9849/9849 [==============================] - 2s 156us/step - loss: 0.0932 - acc: 0.9647\n",
      "Epoch 74/100\n",
      "9849/9849 [==============================] - 2s 155us/step - loss: 0.0924 - acc: 0.9648\n",
      "Epoch 75/100\n",
      "9849/9849 [==============================] - 2s 156us/step - loss: 0.0935 - acc: 0.9639\n",
      "Epoch 76/100\n",
      "9849/9849 [==============================] - 2s 158us/step - loss: 0.0931 - acc: 0.9639\n",
      "Epoch 77/100\n",
      "9849/9849 [==============================] - 2s 157us/step - loss: 0.0931 - acc: 0.9635\n",
      "Epoch 78/100\n",
      "9849/9849 [==============================] - 2s 178us/step - loss: 0.0937 - acc: 0.9641\n",
      "Epoch 79/100\n",
      "9849/9849 [==============================] - 2s 156us/step - loss: 0.0923 - acc: 0.9646\n",
      "Epoch 80/100\n",
      "9849/9849 [==============================] - 2s 156us/step - loss: 0.0928 - acc: 0.9629\n",
      "Epoch 81/100\n",
      "9849/9849 [==============================] - 2s 155us/step - loss: 0.0934 - acc: 0.9635\n",
      "Epoch 82/100\n",
      "9849/9849 [==============================] - 2s 164us/step - loss: 0.0929 - acc: 0.9639\n",
      "Epoch 83/100\n",
      "9849/9849 [==============================] - 2s 154us/step - loss: 0.0930 - acc: 0.9633\n",
      "Epoch 84/100\n",
      "9849/9849 [==============================] - 2s 157us/step - loss: 0.0921 - acc: 0.9645\n",
      "Epoch 85/100\n",
      "9849/9849 [==============================] - 2s 154us/step - loss: 0.0930 - acc: 0.9640\n",
      "Epoch 86/100\n",
      "9849/9849 [==============================] - 2s 155us/step - loss: 0.0920 - acc: 0.9645\n",
      "Epoch 87/100\n",
      "9849/9849 [==============================] - 2s 157us/step - loss: 0.0921 - acc: 0.9642\n",
      "Epoch 88/100\n",
      "9849/9849 [==============================] - 2s 155us/step - loss: 0.0933 - acc: 0.9628\n",
      "Epoch 89/100\n",
      "9849/9849 [==============================] - 2s 154us/step - loss: 0.0920 - acc: 0.9642\n",
      "Epoch 90/100\n",
      "9849/9849 [==============================] - 2s 154us/step - loss: 0.0921 - acc: 0.9640\n",
      "Epoch 91/100\n",
      "9849/9849 [==============================] - 2s 154us/step - loss: 0.0930 - acc: 0.9643\n",
      "Epoch 92/100\n",
      "9849/9849 [==============================] - 2s 155us/step - loss: 0.0920 - acc: 0.9638\n",
      "Epoch 93/100\n",
      "9849/9849 [==============================] - 1s 152us/step - loss: 0.0930 - acc: 0.9635\n",
      "Epoch 94/100\n",
      "9849/9849 [==============================] - 2s 156us/step - loss: 0.0925 - acc: 0.9651\n",
      "Epoch 95/100\n",
      "9849/9849 [==============================] - 2s 155us/step - loss: 0.0922 - acc: 0.9648\n",
      "Epoch 96/100\n",
      "9849/9849 [==============================] - 2s 154us/step - loss: 0.0923 - acc: 0.9656\n",
      "Epoch 97/100\n",
      "9849/9849 [==============================] - 2s 153us/step - loss: 0.0922 - acc: 0.9638\n",
      "Epoch 98/100\n",
      "9849/9849 [==============================] - 2s 154us/step - loss: 0.0928 - acc: 0.9643\n",
      "Epoch 99/100\n",
      "9849/9849 [==============================] - 2s 154us/step - loss: 0.0917 - acc: 0.9649\n",
      "Epoch 100/100\n",
      "9849/9849 [==============================] - 1s 152us/step - loss: 0.0930 - acc: 0.9628\n"
     ]
    },
    {
     "data": {
      "text/plain": [
       "<keras.callbacks.History at 0x1a2ca6354a8>"
      ]
     },
     "execution_count": 103,
     "metadata": {},
     "output_type": "execute_result"
    }
   ],
   "source": [
    "model.fit(X_train_cls, y_train_cls, epochs=100, batch_size=10)"
   ]
  },
  {
   "cell_type": "code",
   "execution_count": 104,
   "metadata": {},
   "outputs": [
    {
     "name": "stdout",
     "output_type": "stream",
     "text": [
      "4222/4222 [==============================] - 0s 41us/step\n",
      "\n",
      "acc: 96.35%\n"
     ]
    }
   ],
   "source": [
    "# evaluate the model\n",
    "scores = model.evaluate(X_test_cls, y_test_cls)\n",
    "print(\"\\n%s: %.2f%%\" % (model.metrics_names[1], scores[1]*100))"
   ]
  }
 ],
 "metadata": {
  "kernelspec": {
   "display_name": "Python 3",
   "language": "python",
   "name": "python3"
  },
  "language_info": {
   "codemirror_mode": {
    "name": "ipython",
    "version": 3
   },
   "file_extension": ".py",
   "mimetype": "text/x-python",
   "name": "python",
   "nbconvert_exporter": "python",
   "pygments_lexer": "ipython3",
   "version": "3.6.6"
  }
 },
 "nbformat": 4,
 "nbformat_minor": 2
}
